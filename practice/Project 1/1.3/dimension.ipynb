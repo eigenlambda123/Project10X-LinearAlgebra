{
 "cells": [
  {
   "cell_type": "code",
   "execution_count": 6,
   "id": "4120594f-ef9e-4847-bbe7-a50c5ba8ae70",
   "metadata": {},
   "outputs": [],
   "source": [
    "A = [[1,2,3],\n",
    "     [3,4,5]]"
   ]
  },
  {
   "cell_type": "markdown",
   "id": "4a299b0b-3621-4230-a05f-fe0d7378020f",
   "metadata": {},
   "source": [
    "### M and N dimension"
   ]
  },
  {
   "cell_type": "code",
   "execution_count": 13,
   "id": "a6f1a524-8c7c-4fd6-a440-80e17fb5a50f",
   "metadata": {},
   "outputs": [
    {
     "name": "stdout",
     "output_type": "stream",
     "text": [
      "This is a 2x3 matrix\n"
     ]
    }
   ],
   "source": [
    "def calc_m_and_n(matrix):\n",
    "    m = 0\n",
    "    n = 0\n",
    "    while m < len(matrix):\n",
    "        n = len(matrix[m]) \n",
    "        m += 1\n",
    "    return f\"This is a {m}x{n} matrix\"\n",
    "\n",
    "\n",
    "print(calc_m_and_n(A))"
   ]
  }
 ],
 "metadata": {
  "kernelspec": {
   "display_name": "Python 3 (ipykernel)",
   "language": "python",
   "name": "python3"
  },
  "language_info": {
   "codemirror_mode": {
    "name": "ipython",
    "version": 3
   },
   "file_extension": ".py",
   "mimetype": "text/x-python",
   "name": "python",
   "nbconvert_exporter": "python",
   "pygments_lexer": "ipython3",
   "version": "3.12.6"
  }
 },
 "nbformat": 4,
 "nbformat_minor": 5
}
