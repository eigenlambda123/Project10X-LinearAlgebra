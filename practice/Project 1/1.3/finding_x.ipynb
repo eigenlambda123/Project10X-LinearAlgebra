{
 "cells": [
  {
   "cell_type": "code",
   "execution_count": 1,
   "id": "517392ef-7e9f-43f4-9053-6d33778bef50",
   "metadata": {},
   "outputs": [],
   "source": [
    "import numpy as np\n",
    "\n",
    "A = [[1, 2],\n",
    "     [3, 4]]\n",
    "\n",
    "b = [3, 7]"
   ]
  },
  {
   "cell_type": "markdown",
   "id": "d403908e-9683-4b07-876b-7dfd89a684ea",
   "metadata": {},
   "source": [
    "### $x=A^{-1} b$"
   ]
  },
  {
   "cell_type": "code",
   "execution_count": 2,
   "id": "d27cdf92-ab58-4685-ac43-dbee63bbca2e",
   "metadata": {
    "scrolled": true
   },
   "outputs": [
    {
     "name": "stdout",
     "output_type": "stream",
     "text": [
      "[np.float64(1.0), np.float64(1.0)]\n"
     ]
    }
   ],
   "source": [
    "def inverse_matrix(matrix):\n",
    "    try:\n",
    "        matrix_inv = np.linalg.inv(matrix)\n",
    "        return matrix_inv\n",
    "    except np.linalg.LinAlgError:\n",
    "        print(\"Matrix is singular and cannot be inverted.\")\n",
    "        return None\n",
    "\n",
    "def find_x(A, b):\n",
    "    inverse_matrix_A = inverse_matrix(A) # Inverse A\n",
    "    if inverse_matrix_A is None:\n",
    "        return None\n",
    "\n",
    "    res = []\n",
    "    for row in inverse_matrix_A: # get row combination\n",
    "        dot_product = 0\n",
    "        for i in range(len(b)):\n",
    "            dot_product += row[i]*b[i] # row x b\n",
    "        res.append(dot_product)\n",
    "    return res\n",
    "\n",
    "print(find_x(A, b))"
   ]
  }
 ],
 "metadata": {
  "kernelspec": {
   "display_name": "Python 3 (ipykernel)",
   "language": "python",
   "name": "python3"
  },
  "language_info": {
   "codemirror_mode": {
    "name": "ipython",
    "version": 3
   },
   "file_extension": ".py",
   "mimetype": "text/x-python",
   "name": "python",
   "nbconvert_exporter": "python",
   "pygments_lexer": "ipython3",
   "version": "3.12.6"
  }
 },
 "nbformat": 4,
 "nbformat_minor": 5
}
