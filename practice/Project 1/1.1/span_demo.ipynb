{
 "cells": [
  {
   "cell_type": "code",
   "execution_count": 14,
   "id": "7785dd7d-8f23-40d6-b18c-45e11227c654",
   "metadata": {},
   "outputs": [],
   "source": [
    "import numpy as np\n",
    "import matplotlib.pyplot as plt\n",
    "from ipywidgets import interact, FloatSlider\n",
    "from itertools import product\n",
    "\n",
    "def span_demo(vectors):\n",
    "    # Ensure input vectors are NumPy arrays\n",
    "    vectors = [np.array(v) for v in vectors]\n",
    "\n",
    "    # Validate input: must be exactly two 2D vectors\n",
    "    if len(vectors) != 2 or vectors[0].shape != (2,) or vectors[1].shape != (2,):\n",
    "        raise ValueError(\"Only supports two 2D vectors for now.\")\n",
    "\n",
    "    # Unpack the vectors\n",
    "    v, w = vectors\n",
    "\n",
    "    def plot_span(a=1.0, b=1.0):\n",
    "        \"\"\"\n",
    "        Visualizes the span of two 2D vectors using an interactive plot.\n",
    "    \n",
    "        Parameters:\n",
    "            vectors (list of list or np.ndarray): Two 2D vectors [v, w].\n",
    "    \n",
    "        Output:\n",
    "            - Displays:\n",
    "                • Light gray area showing span of v and w\n",
    "                • Arrows for v (blue), w (green), and linear combo a*v + b*w (red)\n",
    "                • Interactive sliders to control scalars a and b\n",
    "        \"\"\"\n",
    "        # Compute the linear combination a*v + b*w\n",
    "        linear_combo = a * v + b * w\n",
    "\n",
    "        # Create a new matplotlib figure and axis\n",
    "        fig, ax = plt.subplots(figsize=(6, 6))\n",
    "\n",
    "        # Generate a grid of (s, t) scalar values from -2 to 2\n",
    "        s_vals = np.linspace(-2, 2, 20)\n",
    "        t_vals = np.linspace(-2, 2, 20)\n",
    "\n",
    "        # Compute all combinations s*v + t*w to visualize the span area\n",
    "        points = np.array([s * v + t * w for s, t in product(s_vals, t_vals)])\n",
    "\n",
    "        # Plot those span points as light gray dots\n",
    "        ax.scatter(points[:, 0], points[:, 1], alpha=0.2, color='gray', label='Span Area')\n",
    "\n",
    "        # Draw vector v as a blue arrow from origin\n",
    "        ax.quiver(0, 0, v[0], v[1], angles='xy', scale_units='xy', scale=1, color='blue', label='v')\n",
    "\n",
    "        # Draw vector w as a green arrow from origin\n",
    "        ax.quiver(0, 0, w[0], w[1], angles='xy', scale_units='xy', scale=1, color='green', label='w')\n",
    "\n",
    "        # Draw the current linear combination as a red arrow\n",
    "        ax.quiver(0, 0, linear_combo[0], linear_combo[1], angles='xy', scale_units='xy', scale=1, color='red', label='a*v + b*w')\n",
    "\n",
    "        # Set x and y axis limits\n",
    "        ax.set_xlim(-10, 10)\n",
    "        ax.set_ylim(-10, 10)\n",
    "\n",
    "        # Draw x and y axes\n",
    "        ax.axhline(0, color='black', linewidth=0.5)\n",
    "        ax.axvline(0, color='black', linewidth=0.5)\n",
    "\n",
    "        # Enable grid and keep aspect ratio square\n",
    "        ax.grid(True)\n",
    "        ax.set_aspect('equal')\n",
    "\n",
    "        # Add legend and title\n",
    "        ax.legend()\n",
    "        ax.set_title(f\"Span of v and w\\nCurrent: a={a:.1f}, b={b:.1f}\")\n",
    "\n",
    "        # Display the plot\n",
    "        plt.show()\n",
    "\n",
    "    # Create interactive sliders for scalar values a and b\n",
    "    interact(\n",
    "        plot_span,\n",
    "        a=FloatSlider(value=1.0, min=-5, max=5, step=0.1, description='a'),\n",
    "        b=FloatSlider(value=1.0, min=-5, max=5, step=0.1, description='b')\n",
    "    )\n"
   ]
  },
  {
   "cell_type": "code",
   "execution_count": 15,
   "id": "c4ded27f-4875-4b60-837a-7886ab956a44",
   "metadata": {},
   "outputs": [
    {
     "data": {
      "application/vnd.jupyter.widget-view+json": {
       "model_id": "decf061eb894417c836e772dc8fa8eac",
       "version_major": 2,
       "version_minor": 0
      },
      "text/plain": [
       "interactive(children=(FloatSlider(value=1.0, description='a', max=5.0, min=-5.0), FloatSlider(value=1.0, descr…"
      ]
     },
     "metadata": {},
     "output_type": "display_data"
    }
   ],
   "source": [
    "v = [2, 1]\n",
    "w = [1, 3]\n",
    "span_demo([v, w])"
   ]
  }
 ],
 "metadata": {
  "kernelspec": {
   "display_name": "Python 3 (ipykernel)",
   "language": "python",
   "name": "python3"
  },
  "language_info": {
   "codemirror_mode": {
    "name": "ipython",
    "version": 3
   },
   "file_extension": ".py",
   "mimetype": "text/x-python",
   "name": "python",
   "nbconvert_exporter": "python",
   "pygments_lexer": "ipython3",
   "version": "3.12.6"
  }
 },
 "nbformat": 4,
 "nbformat_minor": 5
}
