{
 "cells": [
  {
   "cell_type": "code",
   "execution_count": 2,
   "id": "5687a856-7c67-4c39-a133-a918d74e19b9",
   "metadata": {},
   "outputs": [],
   "source": [
    "v = [1, 2]\n",
    "w = [4, 5]"
   ]
  },
  {
   "cell_type": "code",
   "execution_count": 3,
   "id": "df96fd64-8cec-4938-85d4-5840f8d92951",
   "metadata": {},
   "outputs": [],
   "source": [
    "import math\n",
    "\n",
    "def dot_product(v, w):\n",
    "    res = []\n",
    "    for i in range(len(v)):\n",
    "        res.append(v[i]*w[i])\n",
    "    return sum(res)\n",
    "\n",
    "\n",
    "def calculate_length(vector):\n",
    "    res =[]\n",
    "    for v in range(len(vector)):\n",
    "        res.append(vector[v]*vector[v])\n",
    "    return round(math.sqrt(sum(res)), 2)"
   ]
  },
  {
   "cell_type": "markdown",
   "id": "f13135f2-7395-4bcb-b91d-ec85817974b7",
   "metadata": {},
   "source": [
    "### Calculate Cosine Angle Between Two Vectors"
   ]
  },
  {
   "cell_type": "code",
   "execution_count": 6,
   "id": "3a4d7d89-307f-4b9e-86c5-129d378e47fe",
   "metadata": {},
   "outputs": [
    {
     "data": {
      "text/plain": [
       "0.9765624999999999"
      ]
     },
     "execution_count": 6,
     "metadata": {},
     "output_type": "execute_result"
    }
   ],
   "source": [
    "def calculate_angle(v1, v2):\n",
    "    dot_prod = dot_product(v1, v2)\n",
    "    length_1 = calculate_length(v1)\n",
    "    length_2 = calculate_length(v2)\n",
    "\n",
    "    return (dot_prod/(length_1*length_2))\n",
    "\n",
    "cos_theta = calculate_angle(v, w)\n",
    "cos_theta"
   ]
  },
  {
   "cell_type": "markdown",
   "id": "de1734c5-0024-434a-8fa2-f367455a5c6c",
   "metadata": {},
   "source": [
    "### Convert Cosine to Angle"
   ]
  },
  {
   "cell_type": "code",
   "execution_count": 5,
   "id": "299d1efa-0778-4b4b-9554-97454da07b7e",
   "metadata": {
    "scrolled": true
   },
   "outputs": [
    {
     "name": "stdout",
     "output_type": "stream",
     "text": [
      "angle between two vectors is 12.429257132522647\n"
     ]
    }
   ],
   "source": [
    "angle_radians = math.acos(cos_theta)      \n",
    "angle_degrees = math.degrees(angle_radians) \n",
    "\n",
    "print(f\"angle between two vectors is {angle_degrees}\")"
   ]
  },
  {
   "cell_type": "code",
   "execution_count": null,
   "id": "81611152-18e6-4138-807e-15b9133504fd",
   "metadata": {},
   "outputs": [],
   "source": []
  }
 ],
 "metadata": {
  "kernelspec": {
   "display_name": "Python 3 (ipykernel)",
   "language": "python",
   "name": "python3"
  },
  "language_info": {
   "codemirror_mode": {
    "name": "ipython",
    "version": 3
   },
   "file_extension": ".py",
   "mimetype": "text/x-python",
   "name": "python",
   "nbconvert_exporter": "python",
   "pygments_lexer": "ipython3",
   "version": "3.12.6"
  }
 },
 "nbformat": 4,
 "nbformat_minor": 5
}
