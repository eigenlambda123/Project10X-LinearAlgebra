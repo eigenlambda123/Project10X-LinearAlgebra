{
 "cells": [
  {
   "cell_type": "code",
   "execution_count": 3,
   "id": "f33104e0-518d-4b02-ac55-3308e59b3ad6",
   "metadata": {},
   "outputs": [],
   "source": [
    "v = [1, 2]\n",
    "w = [4, 5]\n",
    "\n",
    "a = [4, 2]\n",
    "b = [-1, 2]"
   ]
  },
  {
   "cell_type": "markdown",
   "id": "da8ea9cd-8535-4a16-8282-7bf0b9d32ef4",
   "metadata": {},
   "source": [
    "### Dot Product"
   ]
  },
  {
   "cell_type": "code",
   "execution_count": 4,
   "id": "9398c85a-18a8-4f44-8fe7-b5db3a9e9554",
   "metadata": {},
   "outputs": [
    {
     "name": "stdout",
     "output_type": "stream",
     "text": [
      "14\n"
     ]
    }
   ],
   "source": [
    "def dot_product(v, w):\n",
    "    res = []\n",
    "    for i in range(len(v)):\n",
    "        res.append(v[i]*w[i])\n",
    "    return sum(res)\n",
    "\n",
    "print(dot_product(v, w))"
   ]
  },
  {
   "cell_type": "markdown",
   "id": "c9d946b0-432f-48e6-b7d9-6c705a3d721e",
   "metadata": {},
   "source": [
    "### Perpendicular Vector Finder"
   ]
  },
  {
   "cell_type": "code",
   "execution_count": 6,
   "id": "68d98749-96ab-4ace-8a62-137f419db92a",
   "metadata": {},
   "outputs": [
    {
     "name": "stdout",
     "output_type": "stream",
     "text": [
      "Your vectors are perpendicular\n"
     ]
    }
   ],
   "source": [
    "def perpendicular_or_not(v, w):\n",
    "    dot_prod = dot_product(v, w)\n",
    "    if dot_prod == 0:\n",
    "        return \"Your vectors are perpendicular\"\n",
    "    else:\n",
    "        return \"Your vectors are not perpendicular\"\n",
    "\n",
    "print(perpendicular_or_not(a, b))"
   ]
  },
  {
   "cell_type": "code",
   "execution_count": null,
   "id": "f5ab1af4-bc71-47f9-bcf9-0bde6550dd01",
   "metadata": {},
   "outputs": [],
   "source": []
  }
 ],
 "metadata": {
  "kernelspec": {
   "display_name": "Python 3 (ipykernel)",
   "language": "python",
   "name": "python3"
  },
  "language_info": {
   "codemirror_mode": {
    "name": "ipython",
    "version": 3
   },
   "file_extension": ".py",
   "mimetype": "text/x-python",
   "name": "python",
   "nbconvert_exporter": "python",
   "pygments_lexer": "ipython3",
   "version": "3.12.6"
  }
 },
 "nbformat": 4,
 "nbformat_minor": 5
}
