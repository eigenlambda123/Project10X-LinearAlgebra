{
 "cells": [
  {
   "cell_type": "markdown",
   "id": "239b5ede-5eb8-43e7-9bd2-96d3c26407e6",
   "metadata": {},
   "source": [
    "# **Matrix Powers**\n",
    "\n",
    "For a **square matrix** $A$, the **power** $A^n$ is defined as repeated multiplication:\n",
    "\n",
    "$$\n",
    "A^n = \\underbrace{A \\cdot A \\cdot \\ldots \\cdot A}_{n \\text{ times}}\n",
    "$$\n",
    "\n",
    "- Only defined for **square matrices**.\n",
    "- $A^0 = I$ (identity matrix)\n",
    "- $A^1 = A$\n",
    "- $A^2 = A \\cdot A$ and so on.\n",
    "\n",
    "**Powers are useful in applications like:**\n",
    "- Solving recurrence relations\n",
    "- Markov chains\n",
    "- Discrete-time dynamical systems\n"
   ]
  },
  {
   "cell_type": "markdown",
   "id": "37f241c6-0bd2-4524-9d0c-dcd854ffb218",
   "metadata": {},
   "source": [
    "### **Code Implementation**"
   ]
  },
  {
   "cell_type": "code",
   "execution_count": 3,
   "id": "bfc3d6a8-29e4-4753-8792-c9ba495910d8",
   "metadata": {},
   "outputs": [
    {
     "data": {
      "text/markdown": [
       "**Matrix $A$**"
      ],
      "text/plain": [
       "<IPython.core.display.Markdown object>"
      ]
     },
     "metadata": {},
     "output_type": "display_data"
    },
    {
     "data": {
      "text/plain": [
       "array([[2, 1],\n",
       "       [1, 3]])"
      ]
     },
     "metadata": {},
     "output_type": "display_data"
    },
    {
     "data": {
      "text/markdown": [
       "**$A^0 = I$**"
      ],
      "text/plain": [
       "<IPython.core.display.Markdown object>"
      ]
     },
     "metadata": {},
     "output_type": "display_data"
    },
    {
     "data": {
      "text/plain": [
       "array([[1, 0],\n",
       "       [0, 1]])"
      ]
     },
     "metadata": {},
     "output_type": "display_data"
    },
    {
     "data": {
      "text/markdown": [
       "**$A^1 = A$**"
      ],
      "text/plain": [
       "<IPython.core.display.Markdown object>"
      ]
     },
     "metadata": {},
     "output_type": "display_data"
    },
    {
     "data": {
      "text/plain": [
       "array([[2, 1],\n",
       "       [1, 3]])"
      ]
     },
     "metadata": {},
     "output_type": "display_data"
    },
    {
     "data": {
      "text/markdown": [
       "**$A^2$**"
      ],
      "text/plain": [
       "<IPython.core.display.Markdown object>"
      ]
     },
     "metadata": {},
     "output_type": "display_data"
    },
    {
     "data": {
      "text/plain": [
       "array([[ 5,  5],\n",
       "       [ 5, 10]])"
      ]
     },
     "metadata": {},
     "output_type": "display_data"
    },
    {
     "data": {
      "text/markdown": [
       "**$A^3$**"
      ],
      "text/plain": [
       "<IPython.core.display.Markdown object>"
      ]
     },
     "metadata": {},
     "output_type": "display_data"
    },
    {
     "data": {
      "text/plain": [
       "array([[15, 20],\n",
       "       [20, 35]])"
      ]
     },
     "metadata": {},
     "output_type": "display_data"
    }
   ],
   "source": [
    "import numpy as np\n",
    "from IPython.display import display, Markdown\n",
    "\n",
    "# Define a square matrix A\n",
    "A = np.array([\n",
    "    [2, 1],\n",
    "    [1, 3]\n",
    "])\n",
    "\n",
    "# Compute A^0, A^1, A^2, A^3\n",
    "A0 = np.linalg.matrix_power(A, 0)\n",
    "A1 = np.linalg.matrix_power(A, 1)\n",
    "A2 = np.linalg.matrix_power(A, 2)\n",
    "A3 = np.linalg.matrix_power(A, 3)\n",
    "\n",
    "# Display results\n",
    "display(Markdown(\"**Matrix $A$**\"))\n",
    "display(A)\n",
    "\n",
    "display(Markdown(\"**$A^0 = I$**\"))\n",
    "display(A0)\n",
    "\n",
    "display(Markdown(\"**$A^1 = A$**\"))\n",
    "display(A1)\n",
    "\n",
    "display(Markdown(\"**$A^2$**\"))\n",
    "display(A2)\n",
    "\n",
    "display(Markdown(\"**$A^3$**\"))\n",
    "display(A3)"
   ]
  },
  {
   "cell_type": "markdown",
   "id": "d6381f2c-e6a8-48b8-be55-e3dac065af2f",
   "metadata": {},
   "source": [
    "### **Visualization**"
   ]
  },
  {
   "cell_type": "code",
   "execution_count": 4,
   "id": "5be17294-45a7-4c30-b658-e23d52847174",
   "metadata": {},
   "outputs": [
    {
     "data": {
      "image/png": "[encoded data removed]",
      "text/plain": [
       "<Figure size 640x480 with 1 Axes>"
      ]
     },
     "metadata": {},
     "output_type": "display_data"
    }
   ],
   "source": [
    "import numpy as np\n",
    "import matplotlib.pyplot as plt\n",
    "\n",
    "# Define matrix A and a starting vector v\n",
    "A = np.array([\n",
    "    [2, 1],\n",
    "    [1, 3]\n",
    "])\n",
    "v = np.array([1, 0])  # starting vector\n",
    "\n",
    "# Compute successive transformations: A*v, A^2*v, A^3*v\n",
    "v1 = A @ v\n",
    "v2 = A @ v1\n",
    "v3 = A @ v2\n",
    "\n",
    "# Setup the plot\n",
    "fig, ax = plt.subplots()\n",
    "ax.set_aspect('equal')\n",
    "ax.grid(True, which='both')\n",
    "ax.axhline(0, color='gray', lw=1)\n",
    "ax.axvline(0, color='gray', lw=1)\n",
    "\n",
    "# Plot vectors\n",
    "origin = np.zeros(2)\n",
    "ax.quiver(*origin, *v, color='blue', angles='xy', scale_units='xy', scale=1, label=r'$v$')\n",
    "ax.quiver(*origin, *v1, color='orange', angles='xy', scale_units='xy', scale=1, label=r'$Av$')\n",
    "ax.quiver(*origin, *v2, color='green', angles='xy', scale_units='xy', scale=1, label=r'$A^2v$')\n",
    "ax.quiver(*origin, *v3, color='red', angles='xy', scale_units='xy', scale=1, label=r'$A^3v$')\n",
    "\n",
    "# Labels and limits\n",
    "ax.set_xlim(-1, 20)\n",
    "ax.set_ylim(-1, 20)\n",
    "ax.legend()\n",
    "ax.set_title('Effect of Matrix Powers on a Vector')\n",
    "\n",
    "plt.show()"
   ]
  }
 ],
 "metadata": {
  "kernelspec": {
   "display_name": "Python 3 (ipykernel)",
   "language": "python",
   "name": "python3"
  },
  "language_info": {
   "codemirror_mode": {
    "name": "ipython",
    "version": 3
   },
   "file_extension": ".py",
   "mimetype": "text/x-python",
   "name": "python",
   "nbconvert_exporter": "python",
   "pygments_lexer": "ipython3",
   "version": "3.12.6"
  }
 },
 "nbformat": 4,
 "nbformat_minor": 5
}
