{
 "cells": [
  {
   "cell_type": "markdown",
   "id": "05aecbed-107d-4de8-a21e-c1275dd2bbf9",
   "metadata": {},
   "source": [
    "# **Permutation Matrix**\n",
    "\n",
    "> A **permutation matrix** is a square matrix obtained by permuting the rows of the identity matrix. It has exactly one `1` in each row and column, with all other entries being `0`.\n",
    "\n",
    "#### Example\n",
    "\n",
    "Let:\n",
    "\n",
    "$$\n",
    "A = \\begin{bmatrix}\n",
    "1 & 2 \\\\\n",
    "3 & 4\n",
    "\\end{bmatrix}\n",
    "$$\n",
    "\n",
    "and permutation matrix:\n",
    "\n",
    "$$\n",
    "P = \\begin{bmatrix}\n",
    "0 & 1 \\\\\n",
    "1 & 0\n",
    "\\end{bmatrix}\n",
    "$$\n",
    "\n",
    "Then:\n",
    "\n",
    "- **Row permutation:**$$PA$$ swaps rows of $A$\n",
    "\n",
    "- **Column permutation:**$$AP$$ swaps columns of $A$\n",
    "\n",
    "#### Use Cases\n",
    "\n",
    "- Rearranging data\n",
    "- Implementing pivot operations in Gaussian elimination\n",
    "- Modeling reordering in graph adjacency matrices\n"
   ]
  },
  {
   "cell_type": "markdown",
   "id": "f6ff6ab1-9c14-42bc-8efe-f7cbbb9ed3dd",
   "metadata": {},
   "source": [
    "### **Code Implementation**"
   ]
  },
  {
   "cell_type": "code",
   "execution_count": 1,
   "id": "b894b302-6f9a-4970-82c1-93c42ad39dff",
   "metadata": {},
   "outputs": [
    {
     "name": "stdout",
     "output_type": "stream",
     "text": [
      "Original Matrix A:\n"
     ]
    },
    {
     "data": {
      "text/plain": [
       "array([[1, 2],\n",
       "       [3, 4]])"
      ]
     },
     "metadata": {},
     "output_type": "display_data"
    },
    {
     "name": "stdout",
     "output_type": "stream",
     "text": [
      "\n",
      "Permutation Matrix P:\n"
     ]
    },
    {
     "data": {
      "text/plain": [
       "array([[0, 1],\n",
       "       [1, 0]])"
      ]
     },
     "metadata": {},
     "output_type": "display_data"
    },
    {
     "name": "stdout",
     "output_type": "stream",
     "text": [
      "\n",
      "Row-Permuted Matrix (PA):\n"
     ]
    },
    {
     "data": {
      "text/plain": [
       "array([[3, 4],\n",
       "       [1, 2]])"
      ]
     },
     "metadata": {},
     "output_type": "display_data"
    },
    {
     "name": "stdout",
     "output_type": "stream",
     "text": [
      "\n",
      "Column-Permuted Matrix (AP):\n"
     ]
    },
    {
     "data": {
      "text/plain": [
       "array([[2, 1],\n",
       "       [4, 3]])"
      ]
     },
     "metadata": {},
     "output_type": "display_data"
    }
   ],
   "source": [
    "import numpy as np\n",
    "from IPython.display import display\n",
    "import matplotlib.pyplot as plt\n",
    "\n",
    "# Original matrix A\n",
    "A = np.array([[1, 2],\n",
    "              [3, 4]])\n",
    "\n",
    "# Permutation matrix (swap row 1 and 2)\n",
    "P = np.array([[0, 1],\n",
    "              [1, 0]])\n",
    "\n",
    "# Row-permuted matrix\n",
    "PA = P @ A\n",
    "\n",
    "# Column-permuted matrix\n",
    "AP = A @ P\n",
    "\n",
    "# Display matrices\n",
    "print(\"Original Matrix A:\")\n",
    "display(A)\n",
    "\n",
    "print(\"\\nPermutation Matrix P:\")\n",
    "display(P)\n",
    "\n",
    "print(\"\\nRow-Permuted Matrix (PA):\")\n",
    "display(PA)\n",
    "\n",
    "print(\"\\nColumn-Permuted Matrix (AP):\")\n",
    "display(AP)"
   ]
  },
  {
   "cell_type": "markdown",
   "id": "453b6d7f-1c03-4ac8-a685-6d16e63d6e32",
   "metadata": {},
   "source": [
    "### **Visualization**"
   ]
  },
  {
   "cell_type": "code",
   "execution_count": 4,
   "id": "8fcbe5fc-f531-4ea6-8241-1531307b094e",
   "metadata": {},
   "outputs": [
    {
     "data": {
      "image/png": "[encoded data removed]",
      "text/plain": [
       "<Figure size 1200x400 with 3 Axes>"
      ]
     },
     "metadata": {},
     "output_type": "display_data"
    }
   ],
   "source": [
    "import numpy as np\n",
    "import matplotlib.pyplot as plt\n",
    "\n",
    "def plot_matrix(ax, matrix, title):\n",
    "    cmap = plt.cm.Blues\n",
    "    norm = plt.Normalize(np.min(matrix), np.max(matrix))\n",
    "    \n",
    "    ax.imshow(matrix, cmap=cmap, norm=norm)\n",
    "    ax.set_title(title, fontsize=14)\n",
    "    ax.set_xticks(range(matrix.shape[1]))\n",
    "    ax.set_yticks(range(matrix.shape[0]))\n",
    "    \n",
    "    for i in range(matrix.shape[0]):\n",
    "        for j in range(matrix.shape[1]):\n",
    "            ax.text(j, i, str(matrix[i, j]), va='center', ha='center',\n",
    "                    fontsize=14, fontweight='bold', color='black')\n",
    "    \n",
    "    ax.set_xticklabels([])\n",
    "    ax.set_yticklabels([])\n",
    "\n",
    "# Original matrix\n",
    "A = np.array([[1, 2],\n",
    "              [3, 4]])\n",
    "\n",
    "# Row permutation matrix (swap row 0 and 1)\n",
    "P = np.array([[0, 1],\n",
    "              [1, 0]])\n",
    "\n",
    "# Row-permuted: PA\n",
    "PA = P @ A\n",
    "\n",
    "# Column-permuted: AP\n",
    "AP = A @ P\n",
    "\n",
    "# Plotting\n",
    "fig, axes = plt.subplots(1, 3, figsize=(12, 4))\n",
    "plot_matrix(axes[0], A, \"Original Matrix A\")\n",
    "plot_matrix(axes[1], PA, \"Row Permuted: PA\")\n",
    "plot_matrix(axes[2], AP, \"Column Permuted: AP\")\n",
    "\n",
    "plt.tight_layout()\n",
    "plt.show()"
   ]
  }
 ],
 "metadata": {
  "kernelspec": {
   "display_name": "Python 3 (ipykernel)",
   "language": "python",
   "name": "python3"
  },
  "language_info": {
   "codemirror_mode": {
    "name": "ipython",
    "version": 3
   },
   "file_extension": ".py",
   "mimetype": "text/x-python",
   "name": "python",
   "nbconvert_exporter": "python",
   "pygments_lexer": "ipython3",
   "version": "3.12.6"
  }
 },
 "nbformat": 4,
 "nbformat_minor": 5
}
