{
 "cells": [
  {
   "cell_type": "markdown",
   "id": "aaaba930-a00a-41ec-84dd-2dfe6c021474",
   "metadata": {},
   "source": [
    "# **Matrix Transpose**\n",
    "\n",
    "> The **transpose** of a matrix is formed by **flipping the matrix over its diagonal**, effectively swapping the row and column indices.\n",
    "\n",
    "#### Definition\n",
    "\n",
    "Given a matrix $A$ of size $m \\times n$:\n",
    "\n",
    "$$\n",
    "A =\n",
    "\\begin{bmatrix}\n",
    "a_{11} & a_{12} & \\cdots & a_{1n} \\\\\n",
    "a_{21} & a_{22} & \\cdots & a_{2n} \\\\\n",
    "\\vdots & \\vdots & \\ddots & \\vdots \\\\\n",
    "a_{m1} & a_{m2} & \\cdots & a_{mn}\n",
    "\\end{bmatrix}\n",
    "$$\n",
    "\n",
    "The **transpose** of $A$, denoted by $A^T$, is an $n \\times m$ matrix defined as:\n",
    "\n",
    "$$\n",
    "A^T =\n",
    "\\begin{bmatrix}\n",
    "a_{11} & a_{21} & \\cdots & a_{m1} \\\\\n",
    "a_{12} & a_{22} & \\cdots & a_{m2} \\\\\n",
    "\\vdots & \\vdots & \\ddots & \\vdots \\\\\n",
    "a_{1n} & a_{2n} & \\cdots & a_{mn}\n",
    "\\end{bmatrix}\n",
    "$$\n",
    "\n",
    "#### Properties\n",
    "\n",
    "- $(A^T)^T = A$\n",
    "- $(A + B)^T = A^T + B^T$\n",
    "- $(AB)^T = B^T A^T$\n",
    "- $(\\alpha A)^T = \\alpha A^T$ for scalar $\\alpha$\n"
   ]
  },
  {
   "cell_type": "markdown",
   "id": "b908aa16-90c9-4c28-ab15-818e20aa1fe0",
   "metadata": {},
   "source": [
    "### **Code Implementation**"
   ]
  },
  {
   "cell_type": "code",
   "execution_count": 1,
   "id": "e9f451c5-9ab1-4208-8ec0-506ef3c10cf3",
   "metadata": {},
   "outputs": [
    {
     "data": {
      "text/markdown": [
       "**Original Matrix A:**"
      ],
      "text/plain": [
       "<IPython.core.display.Markdown object>"
      ]
     },
     "metadata": {},
     "output_type": "display_data"
    },
    {
     "data": {
      "text/plain": [
       "array([[1, 2, 3],\n",
       "       [4, 5, 6]])"
      ]
     },
     "metadata": {},
     "output_type": "display_data"
    },
    {
     "data": {
      "text/markdown": [
       "**Transpose of A (Aᵀ):**"
      ],
      "text/plain": [
       "<IPython.core.display.Markdown object>"
      ]
     },
     "metadata": {},
     "output_type": "display_data"
    },
    {
     "data": {
      "text/plain": [
       "array([[1, 4],\n",
       "       [2, 5],\n",
       "       [3, 6]])"
      ]
     },
     "metadata": {},
     "output_type": "display_data"
    },
    {
     "data": {
      "text/markdown": [
       "**Transpose of Transpose (Aᵀᵀ):**"
      ],
      "text/plain": [
       "<IPython.core.display.Markdown object>"
      ]
     },
     "metadata": {},
     "output_type": "display_data"
    },
    {
     "data": {
      "text/plain": [
       "array([[1, 2, 3],\n",
       "       [4, 5, 6]])"
      ]
     },
     "metadata": {},
     "output_type": "display_data"
    }
   ],
   "source": [
    "import numpy as np\n",
    "from IPython.display import display, Markdown\n",
    "\n",
    "# Define a matrix A\n",
    "A = np.array([[1, 2, 3],\n",
    "              [4, 5, 6]])\n",
    "\n",
    "# Compute transpose of A\n",
    "A_T = A.T\n",
    "\n",
    "# Display results\n",
    "display(Markdown(\"**Original Matrix A:**\"))\n",
    "display(A)\n",
    "\n",
    "display(Markdown(\"**Transpose of A (Aᵀ):**\"))\n",
    "display(A_T)\n",
    "\n",
    "# Verify that (Aᵀ)ᵀ = A\n",
    "A_T_T = A_T.T\n",
    "display(Markdown(\"**Transpose of Transpose (Aᵀᵀ):**\"))\n",
    "display(A_T_T)"
   ]
  },
  {
   "cell_type": "markdown",
   "id": "ac8d87bc-9c8a-46fa-a150-43bccc1c4ac7",
   "metadata": {},
   "source": [
    "### **Visualization**"
   ]
  },
  {
   "cell_type": "code",
   "execution_count": 2,
   "id": "17f62515-b796-47a7-8499-011fb70308d7",
   "metadata": {},
   "outputs": [
    {
     "data": {
      "image/png": "[encoded data removed]",
      "text/plain": [
       "<Figure size 1000x400 with 2 Axes>"
      ]
     },
     "metadata": {},
     "output_type": "display_data"
    }
   ],
   "source": [
    "import matplotlib.pyplot as plt\n",
    "\n",
    "def plot_matrix(ax, M, title):\n",
    "    ax.imshow(M, cmap='Blues', interpolation='none')\n",
    "    for (i, j), val in np.ndenumerate(M):\n",
    "        ax.text(j, i, f'{val}', ha='center', va='center', color='black')\n",
    "    ax.set_xticks(np.arange(M.shape[1]))\n",
    "    ax.set_yticks(np.arange(M.shape[0]))\n",
    "    ax.set_title(title)\n",
    "    ax.set_xlabel(\"Columns\")\n",
    "    ax.set_ylabel(\"Rows\")\n",
    "\n",
    "fig, axs = plt.subplots(1, 2, figsize=(10, 4))\n",
    "plot_matrix(axs[0], A, \"Original Matrix A\")\n",
    "plot_matrix(axs[1], A_T, \"Transpose Aᵀ\")\n",
    "\n",
    "plt.tight_layout()\n",
    "plt.show()"
   ]
  }
 ],
 "metadata": {
  "kernelspec": {
   "display_name": "Python 3 (ipykernel)",
   "language": "python",
   "name": "python3"
  },
  "language_info": {
   "codemirror_mode": {
    "name": "ipython",
    "version": 3
   },
   "file_extension": ".py",
   "mimetype": "text/x-python",
   "name": "python",
   "nbconvert_exporter": "python",
   "pygments_lexer": "ipython3",
   "version": "3.12.6"
  }
 },
 "nbformat": 4,
 "nbformat_minor": 5
}
