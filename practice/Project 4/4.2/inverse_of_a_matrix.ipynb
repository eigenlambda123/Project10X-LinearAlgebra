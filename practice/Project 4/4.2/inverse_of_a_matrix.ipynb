{
 "cells": [
  {
   "cell_type": "markdown",
   "id": "56229210-4742-4ab6-aa30-cadb10bc9f30",
   "metadata": {},
   "source": [
    "# **Inverse of a Matrix**\n",
    "\n",
    "#### Definition\n",
    "\n",
    "The **inverse of a square matrix** $A$ is another matrix $A^{-1}$ such that:\n",
    "\n",
    "$$\n",
    "A A^{-1} = A^{-1} A = I\n",
    "$$\n",
    "\n",
    "Where:\n",
    "\n",
    "- $A$ is a square matrix\n",
    "- $A^{-1}$ is its inverse\n",
    "- $I$ is the identity matrix of the same size\n",
    "\n",
    "#### Conditions for Invertibility\n",
    "\n",
    "A matrix **has an inverse** if and only if:\n",
    "1. It is **square** (same number of rows and columns).\n",
    "2. Its **determinant is non-zero**:  \n",
    "   $$\n",
    "   \\det(A) \\neq 0\n",
    "   $$\n",
    "\n",
    "Such matrices are called **non-singular**. If a matrix cannot be inverted, it's called **singular**.\n",
    "\n",
    "#### Properties\n",
    "\n",
    "- $A^{-1} A = I$\n",
    "- $(A^{-1})^{-1} = A$\n",
    "- $(AB)^{-1} = B^{-1} A^{-1}$\n",
    "- $(A^T)^{-1} = (A^{-1})^T$\n",
    "\n",
    "#### Use Cases\n",
    "\n",
    "- Solving systems of equations: $A \\vec{x} = \\vec{b}$ ⟶ $\\vec{x} = A^{-1} \\vec{b}$\n",
    "- Matrix division (conceptually, since matrix division isn't defined)\n"
   ]
  },
  {
   "cell_type": "markdown",
   "id": "82b4b118-e4b6-4f85-a12f-276c02d21483",
   "metadata": {},
   "source": [
    "### **Code Implementation**"
   ]
  },
  {
   "cell_type": "code",
   "execution_count": 5,
   "id": "58337851-14a4-42dd-a1c3-63eed8578dd0",
   "metadata": {},
   "outputs": [
    {
     "data": {
      "text/markdown": [
       "**Matrix $A$**"
      ],
      "text/plain": [
       "<IPython.core.display.Markdown object>"
      ]
     },
     "metadata": {},
     "output_type": "display_data"
    },
    {
     "data": {
      "text/plain": [
       "array([[2, 1, 1],\n",
       "       [1, 3, 2],\n",
       "       [1, 0, 0]])"
      ]
     },
     "metadata": {},
     "output_type": "display_data"
    },
    {
     "data": {
      "text/markdown": [
       "**Determinant of $A$: -1.00**"
      ],
      "text/plain": [
       "<IPython.core.display.Markdown object>"
      ]
     },
     "metadata": {},
     "output_type": "display_data"
    },
    {
     "data": {
      "text/markdown": [
       "**Inverse $A^{-1}$ (computed numerically)**"
      ],
      "text/plain": [
       "<IPython.core.display.Markdown object>"
      ]
     },
     "metadata": {},
     "output_type": "display_data"
    },
    {
     "data": {
      "text/plain": [
       "array([[ 0.,  0.,  1.],\n",
       "       [-2.,  1.,  3.],\n",
       "       [ 3., -1., -5.]])"
      ]
     },
     "metadata": {},
     "output_type": "display_data"
    },
    {
     "data": {
      "text/markdown": [
       "**$A \\cdot A^{-1}$ (should be identity matrix)**"
      ],
      "text/plain": [
       "<IPython.core.display.Markdown object>"
      ]
     },
     "metadata": {},
     "output_type": "display_data"
    },
    {
     "data": {
      "text/plain": [
       "array([[ 1.,  0.,  0.],\n",
       "       [-0.,  1.,  0.],\n",
       "       [ 0.,  0.,  1.]])"
      ]
     },
     "metadata": {},
     "output_type": "display_data"
    },
    {
     "data": {
      "text/markdown": [
       "**$A^{-1} \\cdot A$ (should be identity matrix)**"
      ],
      "text/plain": [
       "<IPython.core.display.Markdown object>"
      ]
     },
     "metadata": {},
     "output_type": "display_data"
    },
    {
     "data": {
      "text/plain": [
       "array([[ 1.,  0.,  0.],\n",
       "       [ 0.,  1.,  0.],\n",
       "       [ 0., -0.,  1.]])"
      ]
     },
     "metadata": {},
     "output_type": "display_data"
    },
    {
     "data": {
      "text/markdown": [
       "**Verification:** $AA^{-1}$ is identity: True, $A^{-1}A$ is identity: True"
      ],
      "text/plain": [
       "<IPython.core.display.Markdown object>"
      ]
     },
     "metadata": {},
     "output_type": "display_data"
    }
   ],
   "source": [
    "import numpy as np\n",
    "from numpy.linalg import inv, det\n",
    "from IPython.display import display, Markdown\n",
    "\n",
    "# Invertible 3x3 matrix\n",
    "A = np.array([\n",
    "    [2, 1, 1],\n",
    "    [1, 3, 2],\n",
    "    [1, 0, 0]\n",
    "])\n",
    "\n",
    "# Check if matrix is invertible first\n",
    "d = det(A)\n",
    "if np.isclose(d, 0):\n",
    "    raise ValueError(\"Matrix is not invertible (determinant is zero)\")\n",
    "\n",
    "# Compute inverse\n",
    "A_inv = inv(A)\n",
    "\n",
    "# Identity check (with rounding to handle floating-point precision)\n",
    "I1 = np.round(A @ A_inv, 10)  # Round to 10 decimal places\n",
    "I2 = np.round(A_inv @ A, 10)\n",
    "\n",
    "# Display results with more information\n",
    "display(Markdown(\"**Matrix $A$**\"))\n",
    "display(A)\n",
    "\n",
    "display(Markdown(f\"**Determinant of $A$: {d:.2f}**\"))\n",
    "\n",
    "display(Markdown(\"**Inverse $A^{-1}$ (computed numerically)**\"))\n",
    "display(A_inv)\n",
    "\n",
    "display(Markdown(\"**$A \\\\cdot A^{-1}$ (should be identity matrix)**\"))\n",
    "display(I1)\n",
    "\n",
    "display(Markdown(\"**$A^{-1} \\\\cdot A$ (should be identity matrix)**\"))\n",
    "display(I2)\n",
    "\n",
    "# Verify if both products are identity matrices\n",
    "is_identity1 = np.allclose(I1, np.eye(3))\n",
    "is_identity2 = np.allclose(I2, np.eye(3))\n",
    "\n",
    "display(Markdown(f\"**Verification:** $AA^{{-1}}$ is identity: {is_identity1}, $A^{{-1}}A$ is identity: {is_identity2}\"))"
   ]
  }
 ],
 "metadata": {
  "kernelspec": {
   "display_name": "Python 3 (ipykernel)",
   "language": "python",
   "name": "python3"
  },
  "language_info": {
   "codemirror_mode": {
    "name": "ipython",
    "version": 3
   },
   "file_extension": ".py",
   "mimetype": "text/x-python",
   "name": "python",
   "nbconvert_exporter": "python",
   "pygments_lexer": "ipython3",
   "version": "3.12.6"
  }
 },
 "nbformat": 4,
 "nbformat_minor": 5
}
