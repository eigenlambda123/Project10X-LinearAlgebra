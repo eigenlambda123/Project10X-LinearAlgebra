{
 "cells": [
  {
   "cell_type": "markdown",
   "id": "763d4202-1968-43e6-b8a7-a5b4e0c9e0f9",
   "metadata": {},
   "source": [
    "# **Identity Matrix**\n",
    "\n",
    "> The **identity matrix** is the matrix equivalent of the number 1 in arithmetic.\n",
    "\n",
    "#### Definition\n",
    "\n",
    "An **identity matrix** $I_n$ is a square matrix with 1's on the diagonal and 0's elsewhere:\n",
    "\n",
    "$$\n",
    "I_n = \n",
    "\\begin{bmatrix}\n",
    "1 & 0 & \\cdots & 0 \\\\\\\\\n",
    "0 & 1 & \\cdots & 0 \\\\\\\\\n",
    "\\vdots & \\vdots & \\ddots & \\vdots \\\\\\\\\n",
    "0 & 0 & \\cdots & 1\n",
    "\\end{bmatrix}\n",
    "$$\n",
    "\n",
    "#### Key Properties\n",
    "\n",
    "1. **Multiplicative identity**:\n",
    "   - For any matrix $A$ of size $n \\times n$:\n",
    "$$\n",
    "     AI = IA = A\n",
    "     $$\n",
    "   - For any matrix $A$ of size $m \\times n$:     $$\n",
    "     A I_n = A,\\quad I_m A = A\n",
    "     $$\n",
    "\n",
    "2. **Transformation perspective**:\n",
    "   - Applying $I$ to a vector $v$ leaves it unchanged: $Iv = v$.\n",
    "   - This means the identity matrix represents a \"do nothing\" transformation.\n",
    "\n",
    "3. **Shape**:\n",
    "   - Only square matrices can be identity matrices.\n",
    "   - The size of $I$ must match the size of the matrix or vector it multiplies.\n"
   ]
  },
  {
   "cell_type": "markdown",
   "id": "cda154ec-65d2-4b10-8ea5-d1c93c0c0c40",
   "metadata": {},
   "source": [
    "### **Code Implementation**"
   ]
  },
  {
   "cell_type": "code",
   "execution_count": 5,
   "id": "993a482e-7d24-4d8f-82fa-40d37dd31d8f",
   "metadata": {},
   "outputs": [
    {
     "data": {
      "text/markdown": [
       "**Identity Matrix (3x3):**"
      ],
      "text/plain": [
       "<IPython.core.display.Markdown object>"
      ]
     },
     "metadata": {},
     "output_type": "display_data"
    },
    {
     "data": {
      "text/plain": [
       "array([[1., 0., 0.],\n",
       "       [0., 1., 0.],\n",
       "       [0., 0., 1.]])"
      ]
     },
     "metadata": {},
     "output_type": "display_data"
    },
    {
     "data": {
      "text/markdown": [
       "**Iv (I times v):**"
      ],
      "text/plain": [
       "<IPython.core.display.Markdown object>"
      ]
     },
     "metadata": {},
     "output_type": "display_data"
    },
    {
     "data": {
      "text/plain": [
       "array([[4.],\n",
       "       [5.],\n",
       "       [6.]])"
      ]
     },
     "metadata": {},
     "output_type": "display_data"
    },
    {
     "data": {
      "text/markdown": [
       "**I @ A:**"
      ],
      "text/plain": [
       "<IPython.core.display.Markdown object>"
      ]
     },
     "metadata": {},
     "output_type": "display_data"
    },
    {
     "data": {
      "text/plain": [
       "array([[ 2., -1.,  0.],\n",
       "       [ 0.,  3.,  1.],\n",
       "       [ 4.,  0., -2.]])"
      ]
     },
     "metadata": {},
     "output_type": "display_data"
    },
    {
     "data": {
      "text/markdown": [
       "**A @ I:**"
      ],
      "text/plain": [
       "<IPython.core.display.Markdown object>"
      ]
     },
     "metadata": {},
     "output_type": "display_data"
    },
    {
     "data": {
      "text/plain": [
       "array([[ 2., -1.,  0.],\n",
       "       [ 0.,  3.,  1.],\n",
       "       [ 4.,  0., -2.]])"
      ]
     },
     "metadata": {},
     "output_type": "display_data"
    }
   ],
   "source": [
    "import numpy as np\n",
    "from IPython.display import display, Markdown\n",
    "\n",
    "# Create a 3x3 identity matrix\n",
    "I = np.eye(3)\n",
    "display(Markdown(\"**Identity Matrix (3x3):**\"))\n",
    "display(I)\n",
    "\n",
    "# Multiply identity matrix with a 3x1 vector\n",
    "v = np.array([[4], [5], [6]])\n",
    "Iv = I @ v\n",
    "display(Markdown(\"**Iv (I times v):**\"))\n",
    "display(Iv)\n",
    "\n",
    "# Multiply identity with another 3x3 matrix\n",
    "A = np.array([[2, -1, 0],\n",
    "              [0, 3, 1],\n",
    "              [4, 0, -2]])\n",
    "\n",
    "IA = I @ A\n",
    "AI = A @ I\n",
    "\n",
    "display(Markdown(\"**I @ A:**\"))\n",
    "display(IA)\n",
    "\n",
    "display(Markdown(\"**A @ I:**\"))\n",
    "display(AI)"
   ]
  },
  {
   "cell_type": "markdown",
   "id": "ec62c53e-0d28-4de2-88ba-ab69f722a55f",
   "metadata": {},
   "source": [
    "### **Visualization**"
   ]
  },
  {
   "cell_type": "code",
   "execution_count": 2,
   "id": "27736976-bc2d-40d9-8955-512b03bfc6d6",
   "metadata": {},
   "outputs": [
    {
     "data": {
      "image/png": "[encoded data removed]",
      "text/plain": [
       "<Figure size 640x480 with 1 Axes>"
      ]
     },
     "metadata": {},
     "output_type": "display_data"
    }
   ],
   "source": [
    "import matplotlib.pyplot as plt\n",
    "\n",
    "fig = plt.figure()\n",
    "ax = fig.add_subplot(111)\n",
    "\n",
    "# Original vector\n",
    "v = np.array([2, 1])\n",
    "ax.quiver(0, 0, v[0], v[1], angles='xy', scale_units='xy', scale=1, color='blue', label='Original v')\n",
    "\n",
    "# Identity * v\n",
    "Iv = np.eye(2) @ v\n",
    "ax.quiver(0, 0, Iv[0], Iv[1], angles='xy', scale_units='xy', scale=1, color='green', alpha=0.6, label='I * v')\n",
    "\n",
    "ax.set_xlim(-1, 3)\n",
    "ax.set_ylim(-1, 3)\n",
    "ax.set_aspect('equal')\n",
    "ax.grid(True)\n",
    "ax.set_title('Effect of Identity Matrix on Vector')\n",
    "ax.legend()\n",
    "plt.show()"
   ]
  }
 ],
 "metadata": {
  "kernelspec": {
   "display_name": "Python 3 (ipykernel)",
   "language": "python",
   "name": "python3"
  },
  "language_info": {
   "codemirror_mode": {
    "name": "ipython",
    "version": 3
   },
   "file_extension": ".py",
   "mimetype": "text/x-python",
   "name": "python",
   "nbconvert_exporter": "python",
   "pygments_lexer": "ipython3",
   "version": "3.12.6"
  }
 },
 "nbformat": 4,
 "nbformat_minor": 5
}
