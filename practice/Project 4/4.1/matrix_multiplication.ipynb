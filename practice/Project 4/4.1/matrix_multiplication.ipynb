{
 "cells": [
  {
   "cell_type": "markdown",
   "id": "00d02e58-f264-48cf-b2d1-ddd22b700a70",
   "metadata": {},
   "source": [
    "# **Matrix Multiplication**\n",
    "\n",
    "> Matrix multiplication is **not** element-wise. It is a fundamental operation where a matrix acts as a **transformation** — especially in the context of applying one linear transformation after another.\n",
    "\n",
    "#### Key Ideas\n",
    "\n",
    "- **Matrix multiplication** represents **composition of linear transformations**.\n",
    "- A matrix $A$ of shape $(m \\times n)$ can be multiplied with a matrix $B$ of shape $(n \\times p)$, resulting in a matrix $C = AB$ of shape $(m \\times p)$.\n",
    "- For a vector $x$, $Ax$ means applying the transformation $A$ to $x$.\n",
    "\n",
    "#### Algebraic Rule\n",
    "\n",
    "Given:\n",
    "\n",
    "$$\n",
    "A = \\begin{bmatrix}\n",
    "a_{11} & a_{12} \\\\\n",
    "a_{21} & a_{22}\n",
    "\\end{bmatrix}, \\quad\n",
    "B = \\begin{bmatrix}\n",
    "b_{11} & b_{12} \\\\\n",
    "b_{21} & b_{22}\n",
    "\\end{bmatrix}\n",
    "$$\n",
    "\n",
    "Then:\n",
    "\n",
    "$$\n",
    "AB = \\begin{bmatrix}\n",
    "a_{11}b_{11} + a_{12}b_{21} & a_{11}b_{12} + a_{12}b_{22} \\\\\n",
    "a_{21}b_{11} + a_{22}b_{21} & a_{21}b_{12} + a_{22}b_{22}\n",
    "\\end{bmatrix}\n",
    "$$\n",
    "\n",
    "#### Row-by-Column Rule\n",
    "\n",
    "Each element in $AB$ is a **dot product** between a row of $A$ and a column of $B$.\n",
    "\n",
    "\n",
    "#### Geometric Interpretation\n",
    "\n",
    "- If $A$ and $B$ are both $2 \\times 2$ matrices:\n",
    "\t- Applying $B$ then $A$ to a vector $x$ is the same as applying $AB \\cdot x$\n",
    "- This is **function composition**: $A(Bx) = (AB)x$\n",
    "\n",
    "\n",
    "#### Important Properties\n",
    "\n",
    "- **Not commutative**: $AB \\ne BA$ in general\n",
    "- **Associative**: $(AB)C = A(BC)$\n",
    "- **Distributive**: $A(B + C) = AB + AC$\n",
    "\n",
    "\n",
    "#### Use Cases\n",
    "\n",
    "- Applying multiple transformations (e.g., scaling then rotation)\n",
    "- Computing outputs from weights in neural networks\n",
    "- Coordinate transformations in graphics\n"
   ]
  },
  {
   "cell_type": "markdown",
   "id": "93db25c2-3127-4f53-a3cf-5d608b0ee935",
   "metadata": {},
   "source": [
    "### **Code Implementation**"
   ]
  },
  {
   "cell_type": "code",
   "execution_count": 7,
   "id": "6d4230b3-1c2a-4336-9350-9f3975872d4b",
   "metadata": {},
   "outputs": [
    {
     "data": {
      "text/markdown": [
       "**Matrix $A$**"
      ],
      "text/plain": [
       "<IPython.core.display.Markdown object>"
      ]
     },
     "metadata": {},
     "output_type": "display_data"
    },
    {
     "data": {
      "text/plain": [
       "array([[2, 1],\n",
       "       [0, 3]])"
      ]
     },
     "metadata": {},
     "output_type": "display_data"
    },
    {
     "data": {
      "text/markdown": [
       "**Matrix $B$**"
      ],
      "text/plain": [
       "<IPython.core.display.Markdown object>"
      ]
     },
     "metadata": {},
     "output_type": "display_data"
    },
    {
     "data": {
      "text/plain": [
       "array([[1, 4],\n",
       "       [2, 5]])"
      ]
     },
     "metadata": {},
     "output_type": "display_data"
    },
    {
     "data": {
      "text/markdown": [
       "**Matrix product $AB = A \\cdot B$**"
      ],
      "text/plain": [
       "<IPython.core.display.Markdown object>"
      ]
     },
     "metadata": {},
     "output_type": "display_data"
    },
    {
     "data": {
      "text/plain": [
       "array([[ 4, 13],\n",
       "       [ 6, 15]])"
      ]
     },
     "metadata": {},
     "output_type": "display_data"
    },
    {
     "data": {
      "text/markdown": [
       "**Matrix product $BA = B \\cdot A$ (showing non-commutativity)**"
      ],
      "text/plain": [
       "<IPython.core.display.Markdown object>"
      ]
     },
     "metadata": {},
     "output_type": "display_data"
    },
    {
     "data": {
      "text/plain": [
       "array([[ 2, 13],\n",
       "       [ 4, 17]])"
      ]
     },
     "metadata": {},
     "output_type": "display_data"
    },
    {
     "data": {
      "text/markdown": [
       "**Note:** Matrix multiplication is not commutative, as shown by $AB \\neq BA$"
      ],
      "text/plain": [
       "<IPython.core.display.Markdown object>"
      ]
     },
     "metadata": {},
     "output_type": "display_data"
    }
   ],
   "source": [
    "import numpy as np\n",
    "from IPython.display import display, Markdown\n",
    "\n",
    "# Define two 2x2 matrices\n",
    "A = np.array([[2, 1],\n",
    "              [0, 3]])\n",
    "\n",
    "B = np.array([[1, 4],\n",
    "              [2, 5]])\n",
    "\n",
    "# Perform matrix multiplication\n",
    "AB = A @ B  # or np.dot(A, B)\n",
    "\n",
    "# Display results\n",
    "display(Markdown(\"**Matrix $A$**\"))\n",
    "display(A)\n",
    "\n",
    "display(Markdown(\"**Matrix $B$**\"))\n",
    "display(B)\n",
    "\n",
    "display(Markdown(\"**Matrix product $AB = A \\\\cdot B$**\"))\n",
    "display(AB)\n",
    "\n",
    "# Confirm it's not commutative\n",
    "BA = B @ A\n",
    "display(Markdown(\"**Matrix product $BA = B \\\\cdot A$ (showing non-commutativity)**\"))\n",
    "display(BA)\n",
    "\n",
    "# Additional explanation\n",
    "display(Markdown(\"**Note:** Matrix multiplication is not commutative, as shown by $AB \\\\neq BA$\"))"
   ]
  },
  {
   "cell_type": "markdown",
   "id": "b2be29e4-b6ef-49b0-96a8-6903e802a2f6",
   "metadata": {},
   "source": [
    "### **Visualization**"
   ]
  },
  {
   "cell_type": "code",
   "execution_count": 8,
   "id": "f6fbede4-3d0d-4c55-b300-b51abe07c007",
   "metadata": {},
   "outputs": [
    {
     "data": {
      "image/png": "[encoded data removed]",
      "text/plain": [
       "<Figure size 600x600 with 1 Axes>"
      ]
     },
     "metadata": {},
     "output_type": "display_data"
    }
   ],
   "source": [
    "import matplotlib.pyplot as plt\n",
    "\n",
    "# Original vector\n",
    "v = np.array([1, 1])\n",
    "\n",
    "# Apply transformations\n",
    "v1 = B @ v     # Apply B\n",
    "v2 = A @ v1    # Then apply A\n",
    "\n",
    "# Or apply AB directly\n",
    "v_ab = AB @ v\n",
    "\n",
    "# Plot\n",
    "plt.figure(figsize=(6, 6))\n",
    "plt.axhline(0, color='gray', lw=0.5)\n",
    "plt.axvline(0, color='gray', lw=0.5)\n",
    "\n",
    "# Original vector\n",
    "plt.quiver(0, 0, v[0], v[1], angles='xy', scale_units='xy', scale=1, color='blue', label='Original v')\n",
    "\n",
    "# After B\n",
    "plt.quiver(0, 0, v1[0], v1[1], angles='xy', scale_units='xy', scale=1, color='orange', label='After B')\n",
    "\n",
    "# After A(Bv)\n",
    "plt.quiver(0, 0, v2[0], v2[1], angles='xy', scale_units='xy', scale=1, color='green', label='After A(Bv)')\n",
    "\n",
    "# After AB\n",
    "plt.quiver(0, 0, v_ab[0], v_ab[1], angles='xy', scale_units='xy', scale=1, color='red', label='AB @ v')\n",
    "\n",
    "plt.xlim(-1, 10)\n",
    "plt.ylim(-1, 10)\n",
    "plt.grid(True)\n",
    "plt.gca().set_aspect('equal', adjustable='box')\n",
    "plt.legend()\n",
    "plt.title(\"Matrix Multiplication as Composition of Transformations\")\n",
    "plt.show()"
   ]
  }
 ],
 "metadata": {
  "kernelspec": {
   "display_name": "Python 3 (ipykernel)",
   "language": "python",
   "name": "python3"
  },
  "language_info": {
   "codemirror_mode": {
    "name": "ipython",
    "version": 3
   },
   "file_extension": ".py",
   "mimetype": "text/x-python",
   "name": "python",
   "nbconvert_exporter": "python",
   "pygments_lexer": "ipython3",
   "version": "3.12.6"
  }
 },
 "nbformat": 4,
 "nbformat_minor": 5
}
