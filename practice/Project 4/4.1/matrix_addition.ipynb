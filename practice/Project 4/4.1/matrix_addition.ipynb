{
 "cells": [
  {
   "cell_type": "markdown",
   "id": "11063e40-9f45-40fe-a9ee-e45ac695e518",
   "metadata": {},
   "source": [
    "# **Matrix Addition**\n",
    "\n",
    "> Matrix addition is the operation of **adding corresponding elements** of two matrices.\n",
    "It is a foundational operation in linear algebra, used to combine linear transformations or data arrays.\n",
    "\n",
    "#### Requirements:\n",
    "\n",
    "- Two matrices $A, B \\in \\mathbb{R}^{m \\times n}$ (must have the same shape)\n",
    "- The result $C = A + B$ is also in $\\mathbb{R}^{m \\times n}$\n",
    "\n",
    "#### How it Works:\n",
    "\n",
    "If:\n",
    "$$\n",
    "A =\n",
    "\\begin{bmatrix}\n",
    "a_{11} & a_{12} \\\\\\\\\n",
    "a_{21} & a_{22}\n",
    "\\end{bmatrix}, \\quad\n",
    "B =\n",
    "\\begin{bmatrix}\n",
    "b_{11} & b_{12} \\\\\\\\\n",
    "b_{21} & b_{22}\n",
    "\\end{bmatrix}\n",
    "$$\n",
    "\n",
    "Then:\n",
    "$$\n",
    "A + B =\n",
    "\\begin{bmatrix}\n",
    "a_{11} + b_{11} & a_{12} + b_{12} \\\\\\\\\n",
    "a_{21} + b_{21} & a_{22} + b_{22}\n",
    "\\end{bmatrix}\n",
    "$$\n",
    "\n",
    "#### Key Properties:\n",
    "\n",
    "- **Commutative**: $A + B = B + A$\n",
    "- **Associative**: $(A + B) + C = A + (B + C)$\n",
    "- **Has an additive identity**: $A + 0 = A$\n",
    "\n",
    "#### Geometric Insight:\n",
    "\n",
    "- Matrix addition is like **adding transformations together**\n",
    "- If matrices are interpreted as moving or scaling vectors, addition combines those effects **linearly**"
   ]
  },
  {
   "cell_type": "markdown",
   "id": "7853d3a2-eae6-415f-9dc1-0de81044fd12",
   "metadata": {},
   "source": [
    "### **Code Implementation**"
   ]
  },
  {
   "cell_type": "code",
   "execution_count": 2,
   "id": "d472db3a-52f0-4d64-ab42-aee542bb5b74",
   "metadata": {},
   "outputs": [
    {
     "name": "stdout",
     "output_type": "stream",
     "text": [
      "Matrix A:\n",
      " [[2 1]\n",
      " [0 3]]\n",
      "Matrix B:\n",
      " [[ 1 -1]\n",
      " [ 4  2]]\n",
      "A + B =\n",
      " [[3 0]\n",
      " [4 5]]\n"
     ]
    }
   ],
   "source": [
    "import numpy as np\n",
    "\n",
    "# Define two 2x2 matrices\n",
    "A = np.array([[2, 1],\n",
    "              [0, 3]])\n",
    "\n",
    "B = np.array([[1, -1],\n",
    "              [4, 2]])\n",
    "\n",
    "# Matrix addition\n",
    "C = A + B\n",
    "\n",
    "# Display results\n",
    "print(\"Matrix A:\\n\", A)\n",
    "print(\"Matrix B:\\n\", B)\n",
    "print(\"A + B =\\n\", C)"
   ]
  },
  {
   "cell_type": "markdown",
   "id": "9e42bd90-4c22-4b02-a82c-3828bfc4e2a2",
   "metadata": {},
   "source": [
    "### **Visualization**"
   ]
  },
  {
   "cell_type": "code",
   "execution_count": 3,
   "id": "64720ea8-e3e8-4047-8bca-42e7bd2b4b96",
   "metadata": {},
   "outputs": [
    {
     "data": {
      "image/png": "[encoded data removed]",
      "text/plain": [
       "<Figure size 640x480 with 1 Axes>"
      ]
     },
     "metadata": {},
     "output_type": "display_data"
    }
   ],
   "source": [
    "import matplotlib.pyplot as plt\n",
    "\n",
    "# Extract row vectors (you can also use columns if desired)\n",
    "a1, a2 = A[0], A[1]\n",
    "b1, b2 = B[0], B[1]\n",
    "c1, c2 = C[0], C[1]\n",
    "\n",
    "fig, ax = plt.subplots()\n",
    "ax.set_aspect('equal')\n",
    "ax.grid(True)\n",
    "ax.set_xlim(-2, 7)\n",
    "ax.set_ylim(-2, 7)\n",
    "ax.set_title(\"Matrix Row Vector Addition (A + B)\")\n",
    "\n",
    "# Plot row vectors from A\n",
    "ax.quiver(0, 0, a1[0], a1[1], angles='xy', scale_units='xy', scale=1, color='blue', label='A row 1')\n",
    "ax.quiver(0, 0, a2[0], a2[1], angles='xy', scale_units='xy', scale=1, color='blue', alpha=0.6, label='A row 2')\n",
    "\n",
    "# Plot row vectors from B\n",
    "ax.quiver(0, 0, b1[0], b1[1], angles='xy', scale_units='xy', scale=1, color='red', label='B row 1')\n",
    "ax.quiver(0, 0, b2[0], b2[1], angles='xy', scale_units='xy', scale=1, color='red', alpha=0.6, label='B row 2')\n",
    "\n",
    "# Plot resulting vectors in C\n",
    "ax.quiver(0, 0, c1[0], c1[1], angles='xy', scale_units='xy', scale=1, color='green', label='C = A+B row 1')\n",
    "ax.quiver(0, 0, c2[0], c2[1], angles='xy', scale_units='xy', scale=1, color='green', alpha=0.6, label='C row 2')\n",
    "\n",
    "ax.legend()\n",
    "plt.show()"
   ]
  }
 ],
 "metadata": {
  "kernelspec": {
   "display_name": "Python 3 (ipykernel)",
   "language": "python",
   "name": "python3"
  },
  "language_info": {
   "codemirror_mode": {
    "name": "ipython",
    "version": 3
   },
   "file_extension": ".py",
   "mimetype": "text/x-python",
   "name": "python",
   "nbconvert_exporter": "python",
   "pygments_lexer": "ipython3",
   "version": "3.12.6"
  }
 },
 "nbformat": 4,
 "nbformat_minor": 5
}
