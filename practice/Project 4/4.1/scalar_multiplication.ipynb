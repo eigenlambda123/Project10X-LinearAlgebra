{
 "cells": [
  {
   "cell_type": "markdown",
   "id": "74a0f517-fd47-4127-9ba9-e034a4e46077",
   "metadata": {},
   "source": [
    "# **Scalar Multiplication**\n",
    "\n",
    "#### Concept Overview\n",
    "\n",
    "Scalar multiplication is the operation of multiplying **every entry** of a matrix by a single number (called a **scalar**).\n",
    "\n",
    "If $A$ is a matrix and $k$ is a scalar, then:\n",
    "\n",
    "$$\n",
    "A = \n",
    "\\begin{bmatrix}\n",
    "a_{11} & a_{12} & \\dots & a_{1n} \\\\\\\\\n",
    "a_{21} & a_{22} & \\dots & a_{2n} \\\\\\\\\n",
    "\\vdots & \\vdots & \\ddots & \\vdots \\\\\\\\\n",
    "a_{m1} & a_{m2} & \\dots & a_{mn}\n",
    "\\end{bmatrix},\n",
    "\\quad\n",
    "k \\cdot A = \n",
    "\\begin{bmatrix}\n",
    "k \\cdot a_{11} & k \\cdot a_{12} & \\dots & k \\cdot a_{1n} \\\\\\\\\n",
    "k \\cdot a_{21} & k \\cdot a_{22} & \\dots & k \\cdot a_{2n} \\\\\\\\\n",
    "\\vdots & \\vdots & \\ddots & \\vdots \\\\\\\\\n",
    "k \\cdot a_{m1} & k \\cdot a_{m2} & \\dots & k \\cdot a_{mn}\n",
    "\\end{bmatrix}\n",
    "$$\n",
    "\n",
    "\n",
    "#### Key Properties\n",
    "\n",
    "1. **Distributive over matrix addition**:  \n",
    "   $$k \\cdot (A + B) = k \\cdot A + k \\cdot B$$\n",
    "2. **Distributive over scalar addition**:  \n",
    "   $$(k + c) \\cdot A = k \\cdot A + c \\cdot A$$\n",
    "3. **Associative with scalars**:  \n",
    "   $$(kc) \\cdot A = k \\cdot (c \\cdot A)$$\n",
    "4. **Multiplicative identity**:  \n",
    "   $$1 \\cdot A = A$$\n",
    "\n",
    "#### Use Cases\n",
    "\n",
    "- Scaling transformations in graphics\n",
    "- Rescaling datasets in machine learning\n",
    "- Representing linear combinations\n"
   ]
  },
  {
   "cell_type": "markdown",
   "id": "521012cf-b5ea-4182-830e-20f4ac02cdda",
   "metadata": {},
   "source": [
    "### **Code Visualization**"
   ]
  },
  {
   "cell_type": "code",
   "execution_count": 1,
   "id": "9097efe8-0621-46a6-b670-16bd88e9e2c0",
   "metadata": {},
   "outputs": [
    {
     "name": "stdout",
     "output_type": "stream",
     "text": [
      "Matrix A:\n",
      " [[ 2 -1]\n",
      " [ 4  3]]\n",
      "\n",
      "Scalar k = 3\n",
      "\n",
      "Result of k * A:\n",
      " [[ 6 -3]\n",
      " [12  9]]\n"
     ]
    }
   ],
   "source": [
    "import numpy as np\n",
    "\n",
    "# Define a 2x2 matrix\n",
    "A = np.array([[2, -1],\n",
    "              [4, 3]])\n",
    "\n",
    "# Define a scalar\n",
    "k = 3\n",
    "\n",
    "# Perform scalar multiplication\n",
    "B = k * A\n",
    "\n",
    "print(\"Matrix A:\\n\", A)\n",
    "print(f\"\\nScalar k = {k}\")\n",
    "print(\"\\nResult of k * A:\\n\", B)"
   ]
  },
  {
   "cell_type": "markdown",
   "id": "38cb0171-366c-4393-a8fd-a41799ddaa65",
   "metadata": {},
   "source": [
    "### **Visulization**"
   ]
  },
  {
   "cell_type": "code",
   "execution_count": 2,
   "id": "274bdfbd-c22c-4496-904a-48da6f29851f",
   "metadata": {},
   "outputs": [
    {
     "data": {
      "image/png": "[encoded data removed]",
      "text/plain": [
       "<Figure size 800x400 with 2 Axes>"
      ]
     },
     "metadata": {},
     "output_type": "display_data"
    }
   ],
   "source": [
    "import matplotlib.pyplot as plt\n",
    "\n",
    "fig, axs = plt.subplots(1, 2, figsize=(8, 4))\n",
    "\n",
    "matrices = [A, B]\n",
    "titles = [\"Original Matrix A\", \"After Scalar Multiplication (k·A)\"]\n",
    "\n",
    "for ax, mat, title in zip(axs, matrices, titles):\n",
    "    cax = ax.matshow(mat, cmap='Oranges')\n",
    "    for (i, j), val in np.ndenumerate(mat):\n",
    "        ax.text(j, i, f\"{val}\", ha='center', va='center', color='black')\n",
    "    ax.set_title(title)\n",
    "    ax.axis('off')\n",
    "\n",
    "plt.tight_layout()\n",
    "plt.show()"
   ]
  }
 ],
 "metadata": {
  "kernelspec": {
   "display_name": "Python 3 (ipykernel)",
   "language": "python",
   "name": "python3"
  },
  "language_info": {
   "codemirror_mode": {
    "name": "ipython",
    "version": 3
   },
   "file_extension": ".py",
   "mimetype": "text/x-python",
   "name": "python",
   "nbconvert_exporter": "python",
   "pygments_lexer": "ipython3",
   "version": "3.12.6"
  }
 },
 "nbformat": 4,
 "nbformat_minor": 5
}
