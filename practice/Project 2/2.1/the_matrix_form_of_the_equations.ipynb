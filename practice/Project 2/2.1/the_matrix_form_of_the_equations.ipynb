{
 "cells": [
  {
   "cell_type": "markdown",
   "id": "af720955-259d-4db1-a46f-74980dcd6dae",
   "metadata": {},
   "source": [
    "# The Matrix Form of the Equations"
   ]
  },
  {
   "cell_type": "markdown",
   "id": "58a3818f-52f9-4608-8c2a-c6a5c696d57f",
   "metadata": {},
   "source": [
    "### The System\n",
    "\n",
    "\\begin{aligned}\n",
    "x + 2y + 3z &= 6 \\\\\n",
    "2x + 5y + 2z &= 4 \\\\\n",
    "6x - 3y + z &= 2\n",
    "\\end{aligned}"
   ]
  },
  {
   "cell_type": "markdown",
   "id": "6b888acd-d4e8-4af7-8f34-5b8c11787181",
   "metadata": {},
   "source": [
    "- We have three rows in the row picture and three columns in the column picture (plus the right side). The three rows and three columns contain nine numbers. *These nine numbers fill a 3 by 3 matrix A*:"
   ]
  },
  {
   "cell_type": "markdown",
   "id": "303220ad-6770-406a-a07b-ca42a9bd4c32",
   "metadata": {},
   "source": [
    "---"
   ]
  },
  {
   "cell_type": "markdown",
   "id": "5a900a9f-7a58-4ab2-be91-c6a690da886a",
   "metadata": {},
   "source": [
    "### The Coefficient Matrix in Ax=b is:\n",
    "$$A = \\begin{bmatrix}\n",
    " 1&  2&3  \\\\\n",
    " 2&  5&2  \\\\\n",
    " 6&  -3&1 \n",
    "\\end{bmatrix}$$"
   ]
  },
  {
   "cell_type": "markdown",
   "id": "04fcd0c1-4131-44cf-941d-167e7333776d",
   "metadata": {},
   "source": [
    "- The capital letter `A` stands for all *nine coefficients (in square array)*. The letter `b` denotes the column vector with components *6, 4, 2* The unknown `x` is also a column vector vector, with components *x, y, z*"
   ]
  },
  {
   "cell_type": "markdown",
   "id": "14e5cbae-083f-4fcf-bc85-d7fa3e498aa7",
   "metadata": {},
   "source": [
    "---"
   ]
  },
  {
   "cell_type": "markdown",
   "id": "8567b826-928f-4090-937f-9b2ea56225d7",
   "metadata": {},
   "source": [
    "### Matrix Equation `Ax = b`:\n",
    "\n",
    "$$\\begin{bmatrix}\n",
    " 1&  2&3  \\\\\n",
    " 2&  5&2  \\\\\n",
    " 6&  -3&1 \n",
    "\\end{bmatrix} \\\n",
    "\\begin{bmatrix}\n",
    " x\\\\y\n",
    " \\\\z \n",
    "\\end{bmatrix} \\ = \\\n",
    "\\begin{bmatrix}\n",
    " 6\\\\4\n",
    " \\\\2\n",
    "\\end{bmatrix}$$"
   ]
  },
  {
   "cell_type": "markdown",
   "id": "7d92dcdd-3398-49f4-97a0-0861d08b9bdb",
   "metadata": {},
   "source": [
    "---"
   ]
  },
  {
   "cell_type": "markdown",
   "id": "13355d18-41e4-4a72-8840-f7b47d35ff39",
   "metadata": {},
   "source": [
    "### What does it mean to multiply `A` times `x`? \n",
    "\n",
    "* We can multiply by rows or by columns. Either way, `Ax=b` must be a correct statement of the three equations. We do the same nine multiplication either way"
   ]
  },
  {
   "cell_type": "markdown",
   "id": "e17fa84a-7fec-4592-8188-2f6b441efd5d",
   "metadata": {},
   "source": [
    "<span style=\"background-color:#E3F2FD; padding:4px; border-radius:4px\">**Multiplication by rows**</span>\n",
    "\\( Ax \\) comes from dot products, each row times the column \\( x \\):  \n",
    "\n",
    "$$\n",
    "Ax = \n",
    "\\begin{bmatrix}\n",
    "(\\text{row } 1) \\cdot x \\\\\n",
    "(\\text{row } 2) \\cdot x \\\\\n",
    "(\\text{row } 3) \\cdot x\n",
    "\\end{bmatrix}.\n",
    "$$"
   ]
  },
  {
   "cell_type": "code",
   "execution_count": 15,
   "id": "0016ce20-9e26-4afb-8322-c20e59bdd242",
   "metadata": {},
   "outputs": [
    {
     "name": "stdout",
     "output_type": "stream",
     "text": [
      "Row-wise multiplication result: [6 9 4]\n"
     ]
    }
   ],
   "source": [
    "# Python implementation of row-wise multiplication\n",
    "import numpy as np\n",
    "\n",
    "A = np.array([[1, 2, 3],\n",
    "              [2, 5, 2],\n",
    "              [6, -3, 1]])\n",
    "x = np.array([1, 1, 1])  # Example solution x=y=z=1 (for demonstration)\n",
    "\n",
    "# Row-wise multiplication (dot products)\n",
    "b_row = np.array([np.dot(A[0], x),\n",
    "                 np.dot(A[1], x),\n",
    "                 np.dot(A[2], x)])\n",
    "\n",
    "print(\"Row-wise multiplication result:\", b_row)"
   ]
  },
  {
   "cell_type": "markdown",
   "id": "e3b66242-2302-40d0-b3c9-18e5bca8bf55",
   "metadata": {},
   "source": [
    "---\n",
    "<span style=\"background-color:#E3F2FD; padding:4px; border-radius:4px\">**Multiplication by columns**</span>  \n",
    "\\( Ax \\) is a combination of column vectors:  \n",
    "\n",
    "$$\n",
    "Ax = x \\, (\\text{column } 1) + y \\, (\\text{column } 2) + z \\, (\\text{column } 3).\n",
    "$$"
   ]
  },
  {
   "cell_type": "code",
   "execution_count": 16,
   "id": "db46a1ca-f64a-4043-a0fa-b0951876c90b",
   "metadata": {},
   "outputs": [
    {
     "name": "stdout",
     "output_type": "stream",
     "text": [
      "Column-wise multiplication result: [6 9 4]\n"
     ]
    }
   ],
   "source": [
    "# Python implementation of column-wise multiplication\n",
    "b_col = x[0] * A[:,0] + x[1] * A[:,1] + x[2] * A[:,2]\n",
    "\n",
    "print(\"Column-wise multiplication result:\", b_col)"
   ]
  },
  {
   "cell_type": "markdown",
   "id": "e61da6f3-0854-4d83-9f92-7202f5cb344a",
   "metadata": {},
   "source": [
    "---\n",
    "### Finding the Actual Solution\n",
    "\n",
    "The above used x=[1,1,1] for demonstration. Let's find the actual solution that gives b=[6,4,2]:"
   ]
  },
  {
   "cell_type": "code",
   "execution_count": 17,
   "id": "c887c4dc-3bae-433e-bd7c-c4e7124ceab2",
   "metadata": {},
   "outputs": [
    {
     "name": "stdout",
     "output_type": "stream",
     "text": [
      "Actual solution `x` that satisfies Ax = b: [-1.48029737e-16 -1.48029737e-16  2.00000000e+00]\n",
      "Verification (A @ x_solution): [6. 4. 2.]\n"
     ]
    }
   ],
   "source": [
    "# Solving the system Ax = b\n",
    "b = np.array([6, 4, 2])\n",
    "x_solution = np.linalg.solve(A, b)\n",
    "\n",
    "print(\"Actual solution `x` that satisfies Ax = b:\", x_solution)\n",
    "print(\"Verification (A @ x_solution):\", A @ x_solution)"
   ]
  }
 ],
 "metadata": {
  "kernelspec": {
   "display_name": "Python 3 (ipykernel)",
   "language": "python",
   "name": "python3"
  },
  "language_info": {
   "codemirror_mode": {
    "name": "ipython",
    "version": 3
   },
   "file_extension": ".py",
   "mimetype": "text/x-python",
   "name": "python",
   "nbconvert_exporter": "python",
   "pygments_lexer": "ipython3",
   "version": "3.12.6"
  }
 },
 "nbformat": 4,
 "nbformat_minor": 5
}
