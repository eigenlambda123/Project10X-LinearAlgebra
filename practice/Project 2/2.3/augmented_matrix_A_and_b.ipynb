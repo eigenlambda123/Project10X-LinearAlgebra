{
 "cells": [
  {
   "cell_type": "markdown",
   "id": "afa50078-4b3d-403a-8ecc-ad00ed0292a9",
   "metadata": {},
   "source": [
    "# Augmented Matrix\n",
    "\n",
    "An **augmented matrix** combines a coefficient matrix $A$ and a constant vector $\\vec{b}$ into a single matrix for solving systems of equations of the form:\n",
    "\n",
    "$$\n",
    "A \\vec{x} = \\vec{b}\n",
    "$$\n",
    "\n",
    "We do this by appending $\\vec{b}$ as a new column to $A$:\n",
    "\n",
    "### Example:\n",
    "\n",
    "Given:\n",
    "\n",
    "$$\n",
    "A =\n",
    "\\begin{bmatrix}\n",
    "2 & 4 & -2 \\\\\n",
    "4 & 9 & -3 \\\\\n",
    "-2 & -3 & 7\n",
    "\\end{bmatrix},\n",
    "\\quad\n",
    "\\vec{b} =\n",
    "\\begin{bmatrix}\n",
    "2 \\\\\n",
    "8 \\\\\n",
    "10\n",
    "\\end{bmatrix}\n",
    "$$\n",
    "\n",
    "The augmented matrix is:\n",
    "\n",
    "$$\n",
    "[A \\mid \\vec{b}] =\n",
    "\\begin{bmatrix}\n",
    "2 & 4 & -2 & 2 \\\\\n",
    "4 & 9 & -3 & 8 \\\\\n",
    "-2 & -3 & 7 & 10\n",
    "\\end{bmatrix}\n",
    "$$\n"
   ]
  },
  {
   "cell_type": "markdown",
   "id": "f74ba09c-9916-40ab-8b4c-c1eb349f92cf",
   "metadata": {},
   "source": [
    "---\n",
    "# Brute Force"
   ]
  },
  {
   "cell_type": "code",
   "execution_count": 6,
   "id": "831b368f-1b8f-4bd3-98a7-ca27b1a9703a",
   "metadata": {},
   "outputs": [
    {
     "name": "stdout",
     "output_type": "stream",
     "text": [
      "[[2, 4, -2, 2], [4, 9, -3, 8], [-2, -3, 7, 10]]\n"
     ]
    }
   ],
   "source": [
    "A = [[2, 4, -2],\n",
    "     [4, 9, -3],\n",
    "     [-2, -3, 7]]\n",
    "\n",
    "b = [2,\n",
    "     8,\n",
    "     10]\n",
    "\n",
    "row1 = A[0]\n",
    "row2 = A[1]\n",
    "row3 = A[2]\n",
    "\n",
    "row1.append(b[0])\n",
    "row2.append(b[1])\n",
    "row3.append(b[2])\n",
    "print(A)"
   ]
  },
  {
   "cell_type": "markdown",
   "id": "648a24f7-7c32-48e7-9787-babf31f42bc3",
   "metadata": {},
   "source": [
    "---\n",
    "# Modified"
   ]
  },
  {
   "cell_type": "code",
   "execution_count": 5,
   "id": "cb350938-d837-4337-b4f8-64cdf212bed0",
   "metadata": {},
   "outputs": [
    {
     "name": "stdout",
     "output_type": "stream",
     "text": [
      "[[ 2.  4. -2.  2.]\n",
      " [ 4.  9. -3.  8.]\n",
      " [-2. -3.  7. 10.]]\n"
     ]
    }
   ],
   "source": [
    "import numpy as np\n",
    "\n",
    "# Define A and b properly\n",
    "A = np.array([\n",
    "    [2, 4, -2],\n",
    "    [4, 9, -3],\n",
    "    [-2, -3, 7]\n",
    "], dtype=float)\n",
    "\n",
    "b = np.array([[2], [8], [10]], dtype=float)  # column vector\n",
    "\n",
    "# Use horizontal stacking to form [A | b]\n",
    "augmented = np.hstack((A, b))\n",
    "print(augmented)"
   ]
  }
 ],
 "metadata": {
  "kernelspec": {
   "display_name": "Python 3 (ipykernel)",
   "language": "python",
   "name": "python3"
  },
  "language_info": {
   "codemirror_mode": {
    "name": "ipython",
    "version": 3
   },
   "file_extension": ".py",
   "mimetype": "text/x-python",
   "name": "python",
   "nbconvert_exporter": "python",
   "pygments_lexer": "ipython3",
   "version": "3.12.6"
  }
 },
 "nbformat": 4,
 "nbformat_minor": 5
}
