{
 "cells": [
  {
   "cell_type": "markdown",
   "id": "0eb21a90-5a74-4701-bd22-0e1f9518579f",
   "metadata": {},
   "source": [
    "# **Reduced Row Echelon Form (RREF)**"
   ]
  },
  {
   "cell_type": "markdown",
   "id": "c9b0a074-9601-4ad7-b80a-01b985f510c9",
   "metadata": {},
   "source": [
    "### **Definition**\n",
    "\n",
    "The **Reduced Row Echelon Form (RREF)** of a matrix is a unique matrix obtained by applying a series of **row operations** to transform it into a simplified form that reveals:\n",
    "\n",
    "- **Pivot positions**\n",
    "- **Linear dependencies**\n",
    "- **Solutions to linear systems**\n",
    "\n",
    "A matrix is in **RREF** if:\n",
    "\n",
    "1. **Leading 1s** (called pivots) appear from left to right in each successive row.\n",
    "2. Each pivot is the only non-zero entry in its column.\n",
    "3. Each pivot is to the right of the pivot in the row above.\n",
    "4. Any row of all zeros is at the bottom of the matrix.\n",
    "\n",
    "\n",
    "### **Why RREF is Important**\n",
    "\n",
    "RREF is used to:\n",
    "\n",
    "- Solve systems of linear equations\n",
    "- Find the **rank** of a matrix\n",
    "- Identify **pivot** and **free** variables\n",
    "- Analyze **nullspaces**, **column spaces**, and **row spaces**\n",
    "\n",
    "\n",
    "### **Notation**\n",
    "\n",
    "Let $A$ be an $m \\times n$ matrix. Its reduced row echelon form is often denoted as:\n",
    "\n",
    "$$\n",
    "\\text{rref}(A)\n",
    "$$\n",
    "\n",
    "It is obtained by applying **elementary row operations**:\n",
    "- Swap rows\n",
    "- Multiply a row by a nonzero scalar\n",
    "- Add/subtract scalar multiples of one row to another\n"
   ]
  },
  {
   "cell_type": "markdown",
   "id": "653bbb2b-9ee5-41a0-987d-2f86604e6273",
   "metadata": {},
   "source": [
    "### **Code Implementation**"
   ]
  },
  {
   "cell_type": "code",
   "execution_count": 2,
   "id": "d58efe06-b2a6-423f-a447-19d1bbedc96c",
   "metadata": {},
   "outputs": [
    {
     "name": "stdout",
     "output_type": "stream",
     "text": [
      "A:\n"
     ]
    },
    {
     "data": {
      "text/latex": [
       "$\\displaystyle \\left[\\begin{matrix}1 & 2 & -1 & 2\\\\2 & 4 & -2 & 4\\\\3 & 6 & -3 & 6\\end{matrix}\\right]$"
      ],
      "text/plain": [
       "Matrix([\n",
       "[1, 2, -1, 2],\n",
       "[2, 4, -2, 4],\n",
       "[3, 6, -3, 6]])"
      ]
     },
     "metadata": {},
     "output_type": "display_data"
    },
    {
     "name": "stdout",
     "output_type": "stream",
     "text": [
      "Reduced Row Echelon Form of A:\n"
     ]
    },
    {
     "data": {
      "text/latex": [
       "$\\displaystyle \\left[\\begin{matrix}1 & 2 & -1 & 2\\\\0 & 0 & 0 & 0\\\\0 & 0 & 0 & 0\\end{matrix}\\right]$"
      ],
      "text/plain": [
       "Matrix([\n",
       "[1, 2, -1, 2],\n",
       "[0, 0,  0, 0],\n",
       "[0, 0,  0, 0]])"
      ]
     },
     "metadata": {},
     "output_type": "display_data"
    },
    {
     "name": "stdout",
     "output_type": "stream",
     "text": [
      "\n",
      "Pivot columns:\n",
      "(0,)\n"
     ]
    }
   ],
   "source": [
    "import numpy as np\n",
    "from sympy import Matrix\n",
    "\n",
    "# Define a matrix A\n",
    "A = Matrix([\n",
    "    [1, 2, -1, 2],\n",
    "    [2, 4, -2, 4],\n",
    "    [3, 6, -3, 6]\n",
    "])\n",
    "\n",
    "# Compute the Reduced Row Echelon Form (RREF)\n",
    "rref_matrix, pivot_columns = A.rref()\n",
    "\n",
    "print(\"A:\")\n",
    "display(A)\n",
    "\n",
    "# Display the result\n",
    "print(\"Reduced Row Echelon Form of A:\")\n",
    "display(rref_matrix)\n",
    "\n",
    "print(\"\\nPivot columns:\")\n",
    "print(pivot_columns)"
   ]
  },
  {
   "cell_type": "markdown",
   "id": "74093e2f-a1d8-42bf-8c1b-be631f31c10c",
   "metadata": {},
   "source": [
    "### **Visualization**"
   ]
  },
  {
   "cell_type": "code",
   "execution_count": 3,
   "id": "0484a214-700e-4286-88a3-04ee2013321f",
   "metadata": {},
   "outputs": [
    {
     "data": {
      "image/png": "[encoded data removed]",
      "text/plain": [
       "<Figure size 1000x400 with 2 Axes>"
      ]
     },
     "metadata": {},
     "output_type": "display_data"
    }
   ],
   "source": [
    "import matplotlib.pyplot as plt\n",
    "import numpy as np\n",
    "\n",
    "# Visualization: Original vs RREF (conceptual)\n",
    "fig, axes = plt.subplots(1, 2, figsize=(10, 4))\n",
    "\n",
    "original = np.array([\n",
    "    [1, 2, -1, 2],\n",
    "    [2, 4, -2, 4],\n",
    "    [3, 6, -3, 6]\n",
    "])\n",
    "\n",
    "rref = np.array(rref_matrix.tolist()).astype(float)\n",
    "\n",
    "axes[0].imshow(original, cmap=\"Blues\", interpolation='nearest')\n",
    "axes[0].set_title(\"Original Matrix\")\n",
    "axes[0].axis('off')\n",
    "\n",
    "axes[1].imshow(rref, cmap=\"Greens\", interpolation='nearest')\n",
    "axes[1].set_title(\"Reduced Row Echelon Form\")\n",
    "axes[1].axis('off')\n",
    "\n",
    "plt.tight_layout()\n",
    "plt.show()"
   ]
  }
 ],
 "metadata": {
  "kernelspec": {
   "display_name": "Python 3 (ipykernel)",
   "language": "python",
   "name": "python3"
  },
  "language_info": {
   "codemirror_mode": {
    "name": "ipython",
    "version": 3
   },
   "file_extension": ".py",
   "mimetype": "text/x-python",
   "name": "python",
   "nbconvert_exporter": "python",
   "pygments_lexer": "ipython3",
   "version": "3.12.6"
  }
 },
 "nbformat": 4,
 "nbformat_minor": 5
}
