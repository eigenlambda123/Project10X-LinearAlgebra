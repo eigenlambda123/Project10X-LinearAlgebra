{
 "cells": [
  {
   "cell_type": "markdown",
   "id": "1a8c1cd5-e9a6-4aca-9951-e1828abae639",
   "metadata": {},
   "source": [
    "# **Pivot Columns and Free Columns**"
   ]
  },
  {
   "cell_type": "markdown",
   "id": "9001d6df-fe58-43be-a119-b44c9f84e4e1",
   "metadata": {},
   "source": [
    "### **Overview**\n",
    "\n",
    "When solving a linear system or analyzing a matrix $A$, we often perform **Gaussian Elimination** (or **Gauss-Jordan Elimination**) to bring $A$ to **Row-Reduced Echelon Form (RREF)**.\n",
    "\n",
    "This allows us to distinguish between:\n",
    "\n",
    "### *Pivot Columns*\n",
    "- A **pivot column** contains a leading 1 (pivot position) in its column in RREF.\n",
    "- Each pivot column corresponds to a **basic variable**.\n",
    "- These columns form a **linearly independent set** and are essential in spanning the column space $C(A)$.\n",
    "\n",
    "### *Free Columns*\n",
    "- A **free column** has no pivot in RREF.\n",
    "- It corresponds to a **free variable**, which can take any value.\n",
    "- Free variables are critical in characterizing the **null space** $N(A)$.\n",
    "\n",
    "    \n",
    "### **Algebraic Form**\n",
    "\n",
    "Given an **RREF matrix**, suppose it has pivot columns at positions $i_1, i_2, \\dots, i_r$, then:\n",
    "\n",
    "- These columns are the basis for $C(A)$.\n",
    "- The non-pivot (free) columns correspond to parameters in the general solution of $Ax = 0$.\n"
   ]
  },
  {
   "cell_type": "markdown",
   "id": "ea2475a0-3c15-4845-90b1-30b041ceaab1",
   "metadata": {},
   "source": [
    "### **Code Implementation**"
   ]
  },
  {
   "cell_type": "code",
   "execution_count": 3,
   "id": "edf1128f-3a60-4106-a344-7995c7e4ae9b",
   "metadata": {},
   "outputs": [
    {
     "name": "stdout",
     "output_type": "stream",
     "text": [
      "A:\n"
     ]
    },
    {
     "data": {
      "text/latex": [
       "$\\displaystyle \\left[\\begin{matrix}1 & 2 & -1 & 4\\\\2 & 4 & -2 & 8\\\\3 & 6 & -3 & 12\\end{matrix}\\right]$"
      ],
      "text/plain": [
       "Matrix([\n",
       "[1, 2, -1,  4],\n",
       "[2, 4, -2,  8],\n",
       "[3, 6, -3, 12]])"
      ]
     },
     "metadata": {},
     "output_type": "display_data"
    },
    {
     "name": "stdout",
     "output_type": "stream",
     "text": [
      "RREF of A:\n"
     ]
    },
    {
     "data": {
      "text/latex": [
       "$\\displaystyle \\left[\\begin{matrix}1 & 2 & -1 & 4\\\\0 & 0 & 0 & 0\\\\0 & 0 & 0 & 0\\end{matrix}\\right]$"
      ],
      "text/plain": [
       "Matrix([\n",
       "[1, 2, -1, 4],\n",
       "[0, 0,  0, 0],\n",
       "[0, 0,  0, 0]])"
      ]
     },
     "metadata": {},
     "output_type": "display_data"
    },
    {
     "name": "stdout",
     "output_type": "stream",
     "text": [
      "\n",
      "Pivot Columns (0-indexed): (0,)\n",
      "Free Columns (0-indexed): [1, 2, 3]\n"
     ]
    }
   ],
   "source": [
    "import numpy as np\n",
    "from sympy import Matrix\n",
    "\n",
    "# Define a matrix A (3x4)\n",
    "A = Matrix([\n",
    "    [1, 2, -1, 4],\n",
    "    [2, 4, -2, 8],\n",
    "    [3, 6, -3, 12]\n",
    "])\n",
    "\n",
    "# Reduce to RREF to identify pivot and free columns\n",
    "rref_matrix, pivot_columns = A.rref()\n",
    "\n",
    "print(\"A:\")\n",
    "display(A)\n",
    "print(\"RREF of A:\")\n",
    "display(rref_matrix)\n",
    "\n",
    "print(\"\\nPivot Columns (0-indexed):\", pivot_columns)\n",
    "\n",
    "# Identify free columns\n",
    "all_columns = set(range(A.shape[1]))\n",
    "free_columns = sorted(all_columns - set(pivot_columns))\n",
    "\n",
    "print(\"Free Columns (0-indexed):\", free_columns)"
   ]
  },
  {
   "cell_type": "markdown",
   "id": "e9ae8c7d-2c8c-426b-b38c-c663ac55da20",
   "metadata": {},
   "source": [
    "### **Visualization**"
   ]
  },
  {
   "cell_type": "code",
   "execution_count": 2,
   "id": "719e21b0-00a3-4459-8c27-65d815cb8de3",
   "metadata": {},
   "outputs": [
    {
     "data": {
      "image/png": "[encoded data removed]",
      "text/plain": [
       "<Figure size 600x300 with 1 Axes>"
      ]
     },
     "metadata": {},
     "output_type": "display_data"
    }
   ],
   "source": [
    "import matplotlib.pyplot as plt\n",
    "\n",
    "# Create a simple bar chart of pivot vs free columns\n",
    "labels = ['Col 0', 'Col 1', 'Col 2', 'Col 3']\n",
    "pivot_flags = [1 if i in pivot_columns else 0 for i in range(4)]\n",
    "\n",
    "colors = ['green' if flag else 'red' for flag in pivot_flags]\n",
    "\n",
    "plt.figure(figsize=(6, 3))\n",
    "plt.bar(labels, pivot_flags, color=colors)\n",
    "plt.title(\"Pivot vs Free Columns\")\n",
    "plt.ylabel(\"Is Pivot (1=True, 0=False)\")\n",
    "plt.ylim(0, 1.2)\n",
    "\n",
    "# Add annotations\n",
    "for i, val in enumerate(pivot_flags):\n",
    "    label = 'Pivot' if val else 'Free'\n",
    "    plt.text(i, val + 0.05, label, ha='center')\n",
    "\n",
    "plt.tight_layout()\n",
    "plt.show()"
   ]
  },
  {
   "cell_type": "markdown",
   "id": "1dc1b7fb-648a-42f8-a75f-bb6cfe1f030b",
   "metadata": {},
   "source": [
    "### **Key Takeaways**\n",
    "\n",
    "- The number of **pivot columns** = rank$(A)$.\n",
    "- The number of **free columns** = total columns $-$ rank$(A)$.\n",
    "- Pivot variables determine the structure; free variables introduce degrees of freedom."
   ]
  }
 ],
 "metadata": {
  "kernelspec": {
   "display_name": "Python 3 (ipykernel)",
   "language": "python",
   "name": "python3"
  },
  "language_info": {
   "codemirror_mode": {
    "name": "ipython",
    "version": 3
   },
   "file_extension": ".py",
   "mimetype": "text/x-python",
   "name": "python",
   "nbconvert_exporter": "python",
   "pygments_lexer": "ipython3",
   "version": "3.12.6"
  }
 },
 "nbformat": 4,
 "nbformat_minor": 5
}
