{
 "cells": [
  {
   "cell_type": "markdown",
   "id": "b4fc2016-487c-4ed6-af1a-d420fc2d2303",
   "metadata": {},
   "source": [
    "# Breaking Down Elimination: When It Fails"
   ]
  },
  {
   "cell_type": "markdown",
   "id": "125f97cf-2e6e-473c-a9c8-e7d6f3089304",
   "metadata": {},
   "source": [
    "## <code style=\"color : Red\">1. Permanent Failure (No Solution)</code>\n",
    "**Characteristics**:\n",
    "- A row reduces to a contradiction $(0 = b)$ where $b \\neq 0$\n",
    "- System is inconsistent (equations contradict)\n",
    "- Geometric interpretation: Lines/planes do not intersect\n",
    "\n",
    "**Example**:\n",
    "$$\n",
    "\\begin{cases}\n",
    "x - 2y = 1 & \\text{(Equation 1)} \\\\\n",
    "3x - 6y = 11 & \\text{(Equation 2)}\n",
    "\\end{cases}\n",
    "$$\n",
    "\n",
    "**Elimination Steps**:\n",
    "$$\n",
    "\\begin{aligned}\n",
    "&\\text{Eq2} \\leftarrow \\text{Eq2} - 3 \\times \\text{Eq1} \\\\\n",
    "&\\begin{aligned}\n",
    "x - 2y &= 1 \\\\\n",
    "0 &= 8 \\quad \\text{(Contradiction)}\n",
    "\\end{aligned}\n",
    "\\end{aligned}\n",
    "$$"
   ]
  },
  {
   "cell_type": "markdown",
   "id": "61d50a75-7bcc-4edf-b306-f79ca211df22",
   "metadata": {},
   "source": [
    "### Code Implementation"
   ]
  },
  {
   "cell_type": "code",
   "execution_count": 17,
   "id": "09f9b5e8-7a54-4e3b-8e09-5c20e3cf3132",
   "metadata": {},
   "outputs": [
    {
     "name": "stdout",
     "output_type": "stream",
     "text": [
      "Original system [A | b]:\n",
      "[[ 1. -2.  1.]\n",
      " [ 3. -6. 11.]]\n",
      "\n",
      "Elimination multiplier: 3.00\n",
      "\n",
      "After elimination [U | c]:\n",
      "[[ 1. -2.  1.]\n",
      " [ 0.  0.  8.]]\n",
      "\n",
      "Contradiction found: 0 = 8.00\n",
      "→ The system is inconsistent and has no solution.\n"
     ]
    },
    {
     "data": {
      "text/plain": [
       "True"
      ]
     },
     "execution_count": 17,
     "metadata": {},
     "output_type": "execute_result"
    }
   ],
   "source": [
    "import numpy as np\n",
    "\n",
    "def detect_permanent_failure(A, b):\n",
    "    \"\"\"\n",
    "    Detects if a 2x2 linear system has no solution\n",
    "    by checking for a contradictory row (i.e., 0x + 0y = nonzero).\n",
    "    \"\"\"\n",
    "    # Copy inputs to avoid altering the originals\n",
    "    U = A.copy().astype(float)\n",
    "    c = b.copy().astype(float)\n",
    "\n",
    "    print(\"Original system [A | b]:\")\n",
    "    print(np.column_stack((U, c)))\n",
    "    print()\n",
    "\n",
    "    # Eliminate the first variable from the second row\n",
    "    multiplier = U[1, 0] / U[0, 0]\n",
    "    print(f\"Elimination multiplier: {multiplier:.2f}\")\n",
    "\n",
    "    U[1] = U[1] - multiplier * U[0]\n",
    "    c[1] = c[1] - multiplier * c[0]\n",
    "\n",
    "    print(\"\\nAfter elimination [U | c]:\")\n",
    "    print(np.column_stack((U, c)))\n",
    "    print()\n",
    "\n",
    "    # Check for a row like 0x + 0y = nonzero → contradiction\n",
    "    if np.allclose(U[1], 0) and not np.isclose(c[1], 0):\n",
    "        print(f\"Contradiction found: 0 = {c[1]:.2f}\")\n",
    "        print(\"→ The system is inconsistent and has no solution.\")\n",
    "        return True\n",
    "    else:\n",
    "        print(\"No contradiction detected. The system may have a unique or infinite solution.\")\n",
    "        return False\n",
    "\n",
    "# Example usage\n",
    "A = np.array([[1, -2], \n",
    "              [3, -6]], dtype=float)  # Second row is a multiple of the first\n",
    "b = np.array([1, 11], dtype=float)    # But with a different RHS → contradiction\n",
    "\n",
    "detect_permanent_failure(A, b)"
   ]
  },
  {
   "cell_type": "markdown",
   "id": "dc6c10c5-370a-4ac4-b98e-6863050de32e",
   "metadata": {},
   "source": [
    "---"
   ]
  },
  {
   "cell_type": "markdown",
   "id": "56e3a325-0217-4f5d-a993-fafb26be0cc4",
   "metadata": {},
   "source": [
    "## <code style=\"color : Red\">2. Degenerate Case (Infinitely Many Solutions)\n",
    "**Characteristics**:</code>\n",
    "- A row reduces to $0 = 0$ (redundancy)\n",
    "- Equations are linearly dependent\n",
    "- System has free variables → infinite solutions\n",
    "\n",
    "**Example**:\n",
    "$$\n",
    "\\begin{cases}\n",
    "x - 2y = 1 & \\text{(Equation 1)} \\\\\n",
    "3x - 6y = 3 & \\text{(Equation 2)}\n",
    "\\end{cases}\n",
    "$$\n",
    "\n",
    "**Elimination Steps**:\n",
    "$$\n",
    "\\begin{aligned}\n",
    "&\\text{Eq2} \\leftarrow \\text{Eq2} - 3 \\times \\text{Eq1} \\\\\n",
    "&\\begin{aligned}\n",
    "x - 2y &= 1 \\\\\n",
    "0 &= 0 \\quad \\text{(Redundancy)}\n",
    "\\end{aligned}\n",
    "\\end{aligned}\n",
    "$$\n",
    "\n",
    "**Pivot Count**: Only 1 pivot remains"
   ]
  },
  {
   "cell_type": "markdown",
   "id": "b0eb9236-44b4-4bba-a8a5-890eb773ea27",
   "metadata": {},
   "source": [
    "### Code Implementation"
   ]
  },
  {
   "cell_type": "code",
   "execution_count": 18,
   "id": "1b2203df-103a-49dc-bbd4-f1761172ce09",
   "metadata": {},
   "outputs": [
    {
     "name": "stdout",
     "output_type": "stream",
     "text": [
      "Original system [A | b]:\n",
      "[[ 1. -2.  1.]\n",
      " [ 3. -6.  3.]]\n",
      "\n",
      "Elimination multiplier to zero out A[1,0]: 3.00\n",
      "\n",
      "After elimination [U | c]:\n",
      "[[ 1. -2.  1.]\n",
      " [ 0.  0.  0.]]\n",
      "\n",
      "This is a degenerate case: the second equation is redundant.\n",
      "→ The system has infinitely many solutions.\n"
     ]
    },
    {
     "data": {
      "text/plain": [
       "True"
      ]
     },
     "execution_count": 18,
     "metadata": {},
     "output_type": "execute_result"
    }
   ],
   "source": [
    "import numpy as np\n",
    "\n",
    "def detect_infinite_solutions(A, b):\n",
    "    \"\"\"\n",
    "    Detects if a 2x2 linear system has infinitely many solutions\n",
    "    by checking for a redundant row (i.e., 0 = 0 after elimination).\n",
    "    \"\"\"\n",
    "    # Copy input to avoid changing the original data\n",
    "    U = A.copy().astype(float)\n",
    "    c = b.copy().astype(float)\n",
    "\n",
    "    print(\"Original system [A | b]:\")\n",
    "    print(np.column_stack((U, c)))\n",
    "    print()\n",
    "\n",
    "    # Eliminate the first variable from the second row\n",
    "    multiplier = U[1, 0] / U[0, 0]\n",
    "    print(f\"Elimination multiplier to zero out A[1,0]: {multiplier:.2f}\")\n",
    "    \n",
    "    U[1] = U[1] - multiplier * U[0]\n",
    "    c[1] = c[1] - multiplier * c[0]\n",
    "\n",
    "    print(\"\\nAfter elimination [U | c]:\")\n",
    "    print(np.column_stack((U, c)))\n",
    "    print()\n",
    "\n",
    "    # Check if the second row is 0 = 0 (i.e., redundant)\n",
    "    if np.allclose(U[1], 0) and np.isclose(c[1], 0):\n",
    "        print(\"This is a degenerate case: the second equation is redundant.\")\n",
    "        print(\"→ The system has infinitely many solutions.\")\n",
    "        return True\n",
    "    else:\n",
    "        print(\"No redundancy detected. The system does not have infinite solutions.\")\n",
    "        return False\n",
    "\n",
    "# Example usage\n",
    "A = np.array([[1, -2],\n",
    "              [3, -6]], dtype=float)  # Second row is 3× the first row\n",
    "b = np.array([1, 3], dtype=float)     # RHS also scaled by 3\n",
    "\n",
    "detect_infinite_solutions(A, b)"
   ]
  },
  {
   "cell_type": "markdown",
   "id": "d65a59cb-ec93-4e3b-b5db-dca84754cbf4",
   "metadata": {},
   "source": [
    "---"
   ]
  },
  {
   "cell_type": "markdown",
   "id": "3d400edb-b330-455d-b843-42ddf6ea1ea1",
   "metadata": {},
   "source": [
    "## <code style=\"color : Orange\">3. Temporary Failure (Zero Pivot)</code>\n",
    "**Characteristics**:\n",
    "- Zero appears in pivot position\n",
    "- Fixable via row exchange\n",
    "\n",
    "**Example**:\n",
    "$$\n",
    "\\begin{cases}\n",
    "0x + 2y = 4 & \\text{(Equation 1)} \\\\\n",
    "3x - 2y = 5 & \\text{(Equation 2)}\n",
    "\\end{cases}\n",
    "$$\n",
    "\n",
    "**Solution**: Row permutation\n",
    "$$\n",
    "\\begin{cases}\n",
    "3x - 2y = 5 \\\\\n",
    "2y = 4\n",
    "\\end{cases}\n",
    "$$\n",
    "\n",
    "**Result**: Proper upper triangular system after swap"
   ]
  },
  {
   "cell_type": "markdown",
   "id": "c59cadb3-9283-4335-b872-29043cacc7c7",
   "metadata": {},
   "source": [
    "### Code Implementation"
   ]
  },
  {
   "cell_type": "code",
   "execution_count": 19,
   "id": "bf830caa-2c19-4dc2-b8e6-7b1621a51ca0",
   "metadata": {},
   "outputs": [
    {
     "name": "stdout",
     "output_type": "stream",
     "text": [
      "Initial system [A | b]:\n",
      "[[ 0.  2.  4.]\n",
      " [ 3. -2.  5.]]\n",
      "\n",
      "Zero pivot detected at A[0, 0]. Swapping row 0 and row 1...\n",
      "\n",
      "After row swap [A | b]:\n",
      "[[ 3. -2.  5.]\n",
      " [ 0.  2.  4.]]\n",
      "\n",
      "Elimination multiplier: 0.00\n",
      "\n",
      "System after elimination step [U | c]:\n",
      "[[ 3. -2.  5.]\n",
      " [ 0.  2.  4.]]\n"
     ]
    }
   ],
   "source": [
    "import numpy as np\n",
    "\n",
    "def handle_zero_pivot(A, b):\n",
    "    \"\"\"\n",
    "    Checks if the pivot in the first row is zero.\n",
    "    If so, swaps the first two rows of A and b to continue Gaussian elimination.\n",
    "    Then performs one step of elimination.\n",
    "    \"\"\"\n",
    "    # Copy inputs to avoid modifying original data\n",
    "    U = A.copy().astype(float)\n",
    "    c = b.copy().astype(float)\n",
    "\n",
    "    print(\"Initial system [A | b]:\")\n",
    "    print(np.column_stack((U, c)))\n",
    "    print()\n",
    "\n",
    "    if np.isclose(U[0, 0], 0):\n",
    "        print(\"Zero pivot detected at A[0, 0]. Swapping row 0 and row 1...\\n\")\n",
    "        \n",
    "        # Swap first and second rows\n",
    "        U[[0, 1]] = U[[1, 0]]\n",
    "        c[[0, 1]] = c[[1, 0]]\n",
    "\n",
    "        print(\"After row swap [A | b]:\")\n",
    "        print(np.column_stack((U, c)))\n",
    "        print()\n",
    "\n",
    "    # Perform elimination to zero out U[1, 0]\n",
    "    multiplier = U[1, 0] / U[0, 0]\n",
    "    U[1] = U[1] - multiplier * U[0]\n",
    "    c[1] = c[1] - multiplier * c[0]\n",
    "\n",
    "    print(f\"Elimination multiplier: {multiplier:.2f}\")\n",
    "    print(\"\\nSystem after elimination step [U | c]:\")\n",
    "    print(np.column_stack((U, c)))\n",
    "\n",
    "# Example usage\n",
    "A = np.array([[0, 2],\n",
    "              [3, -2]])\n",
    "b = np.array([4, 5])\n",
    "\n",
    "handle_zero_pivot(A, b)"
   ]
  },
  {
   "cell_type": "markdown",
   "id": "b6204498-77c8-443e-b3aa-51e7441d7e1b",
   "metadata": {},
   "source": [
    "---"
   ]
  },
  {
   "cell_type": "markdown",
   "id": "990dda7a-2a13-4066-a6ae-05d0946f4396",
   "metadata": {},
   "source": [
    "## <code style=\"color : Green\">Key Observations</code>\n",
    "| Failure Type         | Algebraic Sign | Geometric Meaning          | Resolution         |\n",
    "|----------------------|----------------|----------------------------|--------------------|\n",
    "| Permanent            | \\( 0 = b \\)    | No intersection            | No solution        |\n",
    "| Degenerate           | \\( 0 = 0 \\)    | Infinite intersections     | Free variables     |\n",
    "| Temporary (Zero Pivot)| Zero pivot     | Needs reorientation        | Row exchange       |"
   ]
  }
 ],
 "metadata": {
  "kernelspec": {
   "display_name": "Python 3 (ipykernel)",
   "language": "python",
   "name": "python3"
  },
  "language_info": {
   "codemirror_mode": {
    "name": "ipython",
    "version": 3
   },
   "file_extension": ".py",
   "mimetype": "text/x-python",
   "name": "python",
   "nbconvert_exporter": "python",
   "pygments_lexer": "ipython3",
   "version": "3.12.6"
  }
 },
 "nbformat": 4,
 "nbformat_minor": 5
}
