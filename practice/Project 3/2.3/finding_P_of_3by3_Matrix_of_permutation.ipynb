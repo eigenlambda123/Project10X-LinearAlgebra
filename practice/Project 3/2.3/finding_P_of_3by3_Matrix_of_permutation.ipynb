{
 "cells": [
  {
   "cell_type": "markdown",
   "id": "d482eed0-fe34-45c3-9bb0-eef057ff420a",
   "metadata": {},
   "source": [
    "# Permutation Matrix – Manual Construction of $P$\n",
    "\n",
    "This section demonstrates how to manually construct a **permutation matrix** $P$ to reorder the rows of a matrix $A$.\n",
    "\n",
    "The permutation matrix $P$ is defined such that:\n",
    "\n",
    "$$\n",
    "PA = A'\n",
    "$$\n",
    "\n",
    "Where:\n",
    "- $A$ is the original matrix  \n",
    "- $A'$ is the row-reordered version of $A$  \n",
    "- $P$ is a **permutation matrix**, formed by swapping rows of the identity matrix\n",
    "\n",
    "## Example: Swapping Rows\n",
    "\n",
    "Suppose we have:\n",
    "\n",
    "$$\n",
    "A =\n",
    "\\begin{bmatrix}\n",
    "2 & 4 & 1 \\\\\n",
    "0 & 0 & 3 \\\\\n",
    "0 & 6 & 5\n",
    "\\end{bmatrix}\n",
    "$$\n",
    "\n",
    "We want to **swap row 2 and row 3** (i.e., move the third row to second place).  \n",
    "To do this, we construct the permutation matrix by **swapping rows 2 and 3 of the identity matrix**:\n",
    "\n",
    "$$\n",
    "P =\n",
    "\\begin{bmatrix}\n",
    "1 & 0 & 0 \\\\\n",
    "0 & 0 & 1 \\\\\n",
    "0 & 1 & 0\n",
    "\\end{bmatrix}\n",
    "$$\n",
    "\n",
    "Then,\n",
    "\n",
    "$$\n",
    "PA =\n",
    "\\begin{bmatrix}\n",
    "2 & 4 & 1 \\\\\n",
    "0 & 6 & 5 \\\\\n",
    "0 & 0 & 3\n",
    "\\end{bmatrix}\n",
    "$$\n",
    "\n",
    "## Key Properties of Permutation Matrices\n",
    "\n",
    "- A permutation matrix is always a **square** matrix.\n",
    "- Each row and each column has exactly **one entry of 1**, all others are 0.\n",
    "- Permutation matrices are **orthogonal**: $P^{-1} = P^T$\n",
    "- Multiplying $P \\cdot A$ reorders the **rows** of $A$\n",
    "- Commonly used in **LU decomposition with partial pivoting** to bring the largest pivot to the top.\n"
   ]
  },
  {
   "cell_type": "markdown",
   "id": "c0497d55-71f7-4773-a437-c8ec3502057a",
   "metadata": {},
   "source": [
    "---\n",
    "# Brute Force"
   ]
  },
  {
   "cell_type": "code",
   "execution_count": 1,
   "id": "49130786-4221-40e3-a1ef-65cfe341f971",
   "metadata": {},
   "outputs": [
    {
     "name": "stdout",
     "output_type": "stream",
     "text": [
      "Permuted Matrix PA:\n",
      "[[2. 4. 1.]\n",
      " [0. 6. 5.]\n",
      " [0. 0. 3.]]\n"
     ]
    }
   ],
   "source": [
    "import numpy as np\n",
    "\n",
    "A = np.array([\n",
    "    [2, 4, 1],\n",
    "    [0, 0, 3],\n",
    "    [0, 6, 5]\n",
    "], dtype=float)\n",
    "\n",
    "P = np.array([\n",
    "    [1, 0, 0],\n",
    "    [0, 0, 1],\n",
    "    [0, 1, 0]\n",
    "], dtype=float)\n",
    "\n",
    "PA = P @ A\n",
    "\n",
    "print(\"Permuted Matrix PA:\")\n",
    "print(PA)"
   ]
  },
  {
   "cell_type": "markdown",
   "id": "bdd04424-22e0-423d-8858-7f57911a33e0",
   "metadata": {},
   "source": [
    "---\n",
    "# Modified"
   ]
  },
  {
   "cell_type": "code",
   "execution_count": 3,
   "id": "843d25d9-eaf1-4ebb-b7d8-991e9a284fd5",
   "metadata": {},
   "outputs": [
    {
     "name": "stdout",
     "output_type": "stream",
     "text": [
      "Permuted Matrix PA:\n",
      "[[2. 4. 1.]\n",
      " [0. 6. 5.]\n",
      " [0. 0. 3.]]\n"
     ]
    }
   ],
   "source": [
    "# Bring the row with the max absolute value in column 0 to the top\n",
    "pivot_col = 0\n",
    "max_row = np.argmax(np.abs(A[:, pivot_col]))\n",
    "\n",
    "# Create permutation matrix\n",
    "P = np.eye(3)\n",
    "P[[0, max_row]] = P[[max_row, 0]]\n",
    "\n",
    "print(\"Permuted Matrix PA:\")\n",
    "print(PA)"
   ]
  }
 ],
 "metadata": {
  "kernelspec": {
   "display_name": "Python 3 (ipykernel)",
   "language": "python",
   "name": "python3"
  },
  "language_info": {
   "codemirror_mode": {
    "name": "ipython",
    "version": 3
   },
   "file_extension": ".py",
   "mimetype": "text/x-python",
   "name": "python",
   "nbconvert_exporter": "python",
   "pygments_lexer": "ipython3",
   "version": "3.12.6"
  }
 },
 "nbformat": 4,
 "nbformat_minor": 5
}
