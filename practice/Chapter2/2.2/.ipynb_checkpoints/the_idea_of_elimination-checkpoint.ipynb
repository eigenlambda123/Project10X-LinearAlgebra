{
 "cells": [
  {
   "cell_type": "markdown",
   "id": "9e60896b-7ad9-42f0-a031-f54494bb1958",
   "metadata": {},
   "source": [
    "# **The Idea of Elimination**"
   ]
  },
  {
   "cell_type": "markdown",
   "id": "309bb0c4-c11b-4b42-9dce-879393a48d26",
   "metadata": {},
   "source": [
    "### **Key Concepts**\n",
    "\n",
    "- The goal of elimination is to produce an *upper triangular system*.\n",
    "- **Pivot**: First non-zero coefficient in the row that does elimination.\n",
    "- **Multiplier**: (Entry to eliminate) divided by (pivot).\n",
    "\n",
    "    \n",
    "$$\n",
    "\\boxed{\n",
    "\\begin{aligned}\n",
    "\\text{(Original)} &\\hspace{1.5cm} \\text{(Upper Triangular)} \\\\\n",
    "\\begin{alignedat}{2}\n",
    "4x &- 8y &&= 4 \\\\\n",
    "3x &+ 2y &&= 11\n",
    "\\end{alignedat}\n",
    "&\\hspace{1.5cm}\n",
    "\\begin{alignedat}{2}\n",
    "4x &- 8y &&= 4 \\\\\n",
    " & 8y &&= 8\n",
    "\\end{alignedat}\n",
    "\\end{aligned}\n",
    "}\n",
    "$$"
   ]
  },
  {
   "cell_type": "markdown",
   "id": "1d3b0c36-705a-43c2-aa33-18cc9bd8f0af",
   "metadata": {},
   "source": [
    "---"
   ]
  },
  {
   "cell_type": "markdown",
   "id": "8d14dc96-c41d-4156-a17d-a363e1dc4d07",
   "metadata": {},
   "source": [
    "### Example: 2×2 System\n",
    "\n",
    "Given the system:\n",
    "    \n",
    "$$\n",
    "\\begin{align*}\n",
    "4x - 8y &= 4 \\quad &\\text{(Equation 1)} \\\\\n",
    "3x + 2y &= 11 \\quad &\\text{(Equation 2)}\n",
    "\\end{align*}\n",
    "$$"
   ]
  },
  {
   "cell_type": "markdown",
   "id": "d1b25bb6-3aea-4a9b-a46a-bd0ef57f3b26",
   "metadata": {},
   "source": [
    "### Step 1: Eliminate \\( x \\) from Equation 2\n",
    "1. **Identify the pivot**: Coefficient of \\( x \\) in Equation 1 (\\( 4 \\))\n",
    "2. **Compute multiplier**:  $\\frac{3}{4}$ (Entry to eliminate: \\( 3 \\), Pivot: \\( 4 \\))\n",
    "3. **Subtract multiple of Equation 1 from Equation 2**:\n",
    "\n",
    "$$\n",
    "\\begin{aligned}\n",
    "&\\text{Equation 2} - \\left(\\frac{3}{4}\\right) \\times \\text{Equation 1}: \\\\\n",
    "&\\quad \\begin{alignedat}{2}\n",
    "&3x + 2y &&- \\left(\\frac{3}{4}\\right)(4x - 8y) \\\\\n",
    "&= 11 &&- \\left(\\frac{3}{4}\\right)(4)\n",
    "\\end{alignedat} \\\\\n",
    "&\\quad \\Rightarrow 0x + 8y = 8 \\quad \\text{(New Equation 2)}\n",
    "\\end{aligned}\n",
    "$$"
   ]
  },
  {
   "cell_type": "markdown",
   "id": "89336422-c5ef-4cbb-84cf-ebe0c7916588",
   "metadata": {},
   "source": [
    "### Resulting Upper Triangular System:\n",
    "$$\n",
    "\\begin{align*}\n",
    "4x - 8y &= 4 \\\\\n",
    "8y &= 8\n",
    "\\end{align*}\n",
    "$$"
   ]
  },
  {
   "cell_type": "markdown",
   "id": "b4875b02-c4a6-4815-baa9-85d083d5332e",
   "metadata": {},
   "source": [
    "---"
   ]
  },
  {
   "cell_type": "markdown",
   "id": "2e5eff21-eaa4-4fe5-8ca2-01bbdd992b52",
   "metadata": {},
   "source": [
    "## Visualization\n",
    "\n",
    "- **Original System**:\n",
    "  $$\n",
    "  \\begin{bmatrix}\n",
    "  4 & -8 & | & 4 \\\\\n",
    "  3 & 2 & | & 11\n",
    "  \\end{bmatrix}\n",
    "  $$\n",
    "\n",
    "- **After Elimination**:\n",
    "  $$\n",
    "  \\begin{bmatrix}\n",
    "  4 & -8 & | & 4 \\\\\n",
    "  0 & 8 & | & 8\n",
    "  \\end{bmatrix}\n",
    "  $$"
   ]
  },
  {
   "cell_type": "markdown",
   "id": "f0ddd82e-4fc3-479d-bc79-6ca3275aa5e4",
   "metadata": {},
   "source": [
    "---"
   ]
  },
  {
   "cell_type": "markdown",
   "id": "c0dee45c-f095-45b1-b99b-3049cea5dc92",
   "metadata": {},
   "source": [
    "### Code Implementation"
   ]
  },
  {
   "cell_type": "code",
   "execution_count": 3,
   "id": "c55ba8b3-ba37-4b7f-8959-7a25cf6af901",
   "metadata": {},
   "outputs": [
    {
     "name": "stdout",
     "output_type": "stream",
     "text": [
      "=== Original System ===\n",
      "Eq1: 4.0x + -8.0y = 4.0\n",
      "Eq2: 3.0x + 2.0y = 11.0\n",
      "\n",
      "=== Elimination Step ===\n",
      "Multiplier = 3.0 / 4.0 = 0.75\n",
      "\n",
      "Performing: Eq2 ← Eq2 - (0.75) × Eq1\n",
      "\n",
      "=== Upper Triangular System ===\n",
      "Eq1: 4.0x + -8.0y = 4.0\n",
      "Eq2: 8.0y = 8.0\n",
      "\n",
      "=== Final Output ===\n",
      "Upper Triangular Matrix U:\n",
      "[[ 4. -8.]\n",
      " [ 0.  8.]]\n",
      "\n",
      "Transformed Vector b:\n",
      "[4. 8.]\n"
     ]
    }
   ],
   "source": [
    "import numpy as np\n",
    "\n",
    "def forward_elimination_2x2(A, b):\n",
    "    \"\"\"\n",
    "    Performs Gaussian elimination (forward only) on a 2x2 system\n",
    "    Args:\n",
    "        A: 2x2 coefficient matrix (numpy array)\n",
    "        b: 2x1 right-hand side vector (numpy array)\n",
    "    Returns:\n",
    "        U: Upper triangular matrix\n",
    "        new_b: Transformed right-hand side\n",
    "    \"\"\"\n",
    "    # Make copies to avoid modifying original arrays\n",
    "    U = A.copy()\n",
    "    new_b = b.copy()\n",
    "    \n",
    "    print(\"=== Original System ===\")\n",
    "    print(f\"Eq1: {U[0,0]}x + {U[0,1]}y = {new_b[0]}\")\n",
    "    print(f\"Eq2: {U[1,0]}x + {U[1,1]}y = {new_b[1]}\\n\")\n",
    "    \n",
    "    # Step 1: Forward Elimination\n",
    "    pivot = U[0,0]\n",
    "    if pivot == 0:\n",
    "        raise ValueError(\"Zero pivot encountered - system may not have a unique solution\")\n",
    "    \n",
    "    multiplier = U[1,0] / pivot\n",
    "    print(f\"=== Elimination Step ===\")\n",
    "    print(f\"Multiplier = {U[1,0]} / {pivot} = {multiplier:.2f}\\n\")\n",
    "    \n",
    "    # Row operation: Row2 = Row2 - multiplier * Row1\n",
    "    print(\"Performing: Eq2 ← Eq2 - (%.2f) × Eq1\" % multiplier)\n",
    "    U[1,0] = U[1,0] - multiplier * U[0,0]  # Should become 0\n",
    "    U[1,1] = U[1,1] - multiplier * U[0,1]\n",
    "    new_b[1] = new_b[1] - multiplier * new_b[0]\n",
    "    \n",
    "    print(\"\\n=== Upper Triangular System ===\")\n",
    "    print(f\"Eq1: {U[0,0]}x + {U[0,1]}y = {new_b[0]}\")\n",
    "    print(f\"Eq2: {U[1,1]}y = {new_b[1]}\")\n",
    "    \n",
    "    return U, new_b\n",
    "\n",
    "# Example system\n",
    "A = np.array([[4, -8],\n",
    "              [3, 2]], dtype=float)\n",
    "b = np.array([4, 11], dtype=float)\n",
    "\n",
    "# Perform elimination\n",
    "U, new_b = forward_elimination_2x2(A, b)\n",
    "\n",
    "print(\"\\n=== Final Output ===\")\n",
    "print(\"Upper Triangular Matrix U:\")\n",
    "print(U)\n",
    "print(\"\\nTransformed Vector b:\")\n",
    "print(new_b)"
   ]
  }
 ],
 "metadata": {
  "kernelspec": {
   "display_name": "Python 3 (ipykernel)",
   "language": "python",
   "name": "python3"
  },
  "language_info": {
   "codemirror_mode": {
    "name": "ipython",
    "version": 3
   },
   "file_extension": ".py",
   "mimetype": "text/x-python",
   "name": "python",
   "nbconvert_exporter": "python",
   "pygments_lexer": "ipython3",
   "version": "3.12.6"
  }
 },
 "nbformat": 4,
 "nbformat_minor": 5
}
