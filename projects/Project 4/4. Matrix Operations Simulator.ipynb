{
 "cells": [
  {
   "cell_type": "markdown",
   "id": "4bd1006f-b203-4797-ac3b-9a836a78f07a",
   "metadata": {},
   "source": [
    "### **Matrix Addition, Scale, and Multiplication**"
   ]
  },
  {
   "cell_type": "code",
   "execution_count": 1,
   "id": "7ef4d476-63a0-4861-8555-29cb0e4ded75",
   "metadata": {},
   "outputs": [],
   "source": [
    "import numpy as np\n",
    "\n",
    "def add_matrices(A, B):\n",
    "    A = np.array(A)\n",
    "    B = np.array(B)\n",
    "\n",
    "    if A.shape != B.shape:\n",
    "        raise ValueError(\"Matrices must have the same shape to be added.\")\n",
    "\n",
    "    return A + B\n",
    "\n",
    "\n",
    "def scale_matrix(c, A):\n",
    "    A = np.array(A)\n",
    "    return c * A\n",
    "\n",
    "import numpy as np\n",
    "\n",
    "\n",
    "def multiply_matrices(A, B):\n",
    "    A = np.array(A)\n",
    "    B = np.array(B)\n",
    "\n",
    "    if A.shape[1] != B.shape[0]:\n",
    "        raise ValueError(f\"Incompatible dimensions: {A.shape} cannot be multiplied with {B.shape}\")\n",
    "\n",
    "    return A @ B"
   ]
  },
  {
   "cell_type": "markdown",
   "id": "63f582e5-b2f2-4c45-b25e-deffa0c7f08f",
   "metadata": {},
   "source": [
    "### **Matrix Identity, Inverse, and Power**"
   ]
  },
  {
   "cell_type": "code",
   "execution_count": 2,
   "id": "a4fbce36-c5ed-4528-abe3-532ac0b18b2b",
   "metadata": {},
   "outputs": [],
   "source": [
    "import numpy as np\n",
    "\n",
    "def identity_matrix(n):\n",
    "    if n <= 0:\n",
    "        raise ValueError(\"Size of identity matrix must be a positive integer\")\n",
    "\n",
    "    return np.eye(n)\n",
    "\n",
    "\n",
    "def inverse_matrix(A):\n",
    "    A = np.array(A)\n",
    "\n",
    "    if A.shape[0] != A.shape[1]:\n",
    "        raise ValueError(\"Matrix must be square to compute inverse.\")\n",
    "\n",
    "    det = np.linalg.det(A)\n",
    "    if np.isclose(det, 0):\n",
    "        raise ValueError(\"Matrix is singular and not invertible (det = 0).\")\n",
    "\n",
    "    return np.linalg.inv(A)\n",
    "\n",
    "import numpy as np\n",
    "\n",
    "\n",
    "def matrix_power(A, k):\n",
    "    A = np.array(A)\n",
    "\n",
    "    if A.shape[0] != A.shape[1]:\n",
    "        raise ValueError(\"Matrix must be square to raise to a power.\")\n",
    "\n",
    "    return np.linalg.matrix_power(A, k)"
   ]
  }
 ],
 "metadata": {
  "kernelspec": {
   "display_name": "Python 3 (ipykernel)",
   "language": "python",
   "name": "python3"
  },
  "language_info": {
   "codemirror_mode": {
    "name": "ipython",
    "version": 3
   },
   "file_extension": ".py",
   "mimetype": "text/x-python",
   "name": "python",
   "nbconvert_exporter": "python",
   "pygments_lexer": "ipython3",
   "version": "3.12.6"
  }
 },
 "nbformat": 4,
 "nbformat_minor": 5
}
