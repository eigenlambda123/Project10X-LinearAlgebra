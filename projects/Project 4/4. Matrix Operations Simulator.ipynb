{
 "cells": [
  {
   "cell_type": "markdown",
   "id": "4bd1006f-b203-4797-ac3b-9a836a78f07a",
   "metadata": {},
   "source": [
    "### **Matrix Addition, Scale, and Multiplication**"
   ]
  },
  {
   "cell_type": "code",
   "execution_count": null,
   "id": "7ef4d476-63a0-4861-8555-29cb0e4ded75",
   "metadata": {},
   "outputs": [],
   "source": [
    "import numpy as np\n",
    "\n",
    "def add_matrices(A, B):\n",
    "    A = np.array(A)\n",
    "    B = np.array(B)\n",
    "\n",
    "    if A.shape != B.shape:\n",
    "        raise ValueError(\"Matrices must have the same shape to be added.\")\n",
    "\n",
    "    return A + B\n",
    "\n",
    "def scale_matrix(c, A):\n",
    "    A = np.array(A)\n",
    "    return c * A"
   ]
  }
 ],
 "metadata": {
  "kernelspec": {
   "display_name": "Python 3 (ipykernel)",
   "language": "python",
   "name": "python3"
  },
  "language_info": {
   "codemirror_mode": {
    "name": "ipython",
    "version": 3
   },
   "file_extension": ".py",
   "mimetype": "text/x-python",
   "name": "python",
   "nbconvert_exporter": "python",
   "pygments_lexer": "ipython3",
   "version": "3.12.6"
  }
 },
 "nbformat": 4,
 "nbformat_minor": 5
}
