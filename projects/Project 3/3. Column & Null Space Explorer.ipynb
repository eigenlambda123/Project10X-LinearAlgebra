{
 "cells": [
  {
   "cell_type": "markdown",
   "id": "f4d2d3b3-537f-4deb-b16b-8039470fb684",
   "metadata": {},
   "source": [
    "### **Column Space and Null Space Basis**"
   ]
  },
  {
   "cell_type": "code",
   "execution_count": 9,
   "id": "a07e1afe-ae70-4fab-930e-c56e170baf63",
   "metadata": {},
   "outputs": [],
   "source": [
    "import numpy as np\n",
    "from sympy import Matrix\n",
    "from scipy.linalg import null_space\n",
    "\n",
    "def get_column_space_basis(A):\n",
    "    \"\"\"\n",
    "    Return basis for Col(A) using pivot columns from RREF\n",
    "    \"\"\"\n",
    "    sympy_A = Matrix(A)\n",
    "    rref_matrix, pivots = sympy_A.rref()\n",
    "    basis = [sympy_A.col(i).tolist() for i in pivots]\n",
    "    return [np.array(vec).reshape(-1, 1) for vec in basis]\n",
    "\n",
    "def get_null_space_basis(A, tol=1e-10):\n",
    "    \"\"\"\n",
    "    Return basis for Null(A) using scipy's null_space (numerical)\n",
    "    \"\"\"\n",
    "    ns = null_space(A)\n",
    "    return [ns[:, i].reshape(-1, 1) for i in range(ns.shape[1])]"
   ]
  },
  {
   "cell_type": "code",
   "execution_count": null,
   "id": "9e8c9a33-a413-42e1-938e-1fed7286091b",
   "metadata": {},
   "outputs": [],
   "source": []
  }
 ],
 "metadata": {
  "kernelspec": {
   "display_name": "Python 3 (ipykernel)",
   "language": "python",
   "name": "python3"
  },
  "language_info": {
   "codemirror_mode": {
    "name": "ipython",
    "version": 3
   },
   "file_extension": ".py",
   "mimetype": "text/x-python",
   "name": "python",
   "nbconvert_exporter": "python",
   "pygments_lexer": "ipython3",
   "version": "3.12.6"
  }
 },
 "nbformat": 4,
 "nbformat_minor": 5
}
