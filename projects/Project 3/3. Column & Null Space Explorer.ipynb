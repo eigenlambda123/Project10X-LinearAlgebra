{
 "cells": [
  {
   "cell_type": "markdown",
   "id": "f4d2d3b3-537f-4deb-b16b-8039470fb684",
   "metadata": {},
   "source": [
    "### **Column Space and Null Space Basis**"
   ]
  },
  {
   "cell_type": "code",
   "execution_count": 9,
   "id": "a07e1afe-ae70-4fab-930e-c56e170baf63",
   "metadata": {},
   "outputs": [],
   "source": [
    "import numpy as np\n",
    "from sympy import Matrix\n",
    "from scipy.linalg import null_space\n",
    "\n",
    "def get_column_space_basis(A):\n",
    "    \"\"\"\n",
    "    Return basis for Col(A) using pivot columns from RREF\n",
    "    \"\"\"\n",
    "    sympy_A = Matrix(A)\n",
    "    rref_matrix, pivots = sympy_A.rref()\n",
    "    basis = [sympy_A.col(i).tolist() for i in pivots]\n",
    "    return [np.array(vec).reshape(-1, 1) for vec in basis]\n",
    "\n",
    "def get_null_space_basis(A, tol=1e-10):\n",
    "    \"\"\"\n",
    "    Return basis for Null(A) using scipy's null_space (numerical)\n",
    "    \"\"\"\n",
    "    ns = null_space(A, rcond=tol)\n",
    "    basis = [ns[:, i].reshape(-1, 1) for i in range(ns.shape[1])]\n",
    "    return basis"
   ]
  },
  {
   "cell_type": "markdown",
   "id": "036458c2-6c62-4b14-b391-9008d1895f29",
   "metadata": {},
   "source": [
    "### **Visualization**"
   ]
  },
  {
   "cell_type": "code",
   "execution_count": 10,
   "id": "b6f3314d-aff7-4830-8b3d-d7a286e15f3b",
   "metadata": {},
   "outputs": [],
   "source": [
    "import matplotlib.pyplot as plt\n",
    "from mpl_toolkits.mplot3d import Axes3D\n",
    "\n",
    "\n",
    "def visualize_subspaces(A):\n",
    "    dim = A.shape[0]\n",
    "    if dim not in [2, 3]:\n",
    "        raise ValueError(\"Only 2D or 3D matrices are supported for visualization.\")\n",
    "    \n",
    "    col_basis = get_column_space_basis(A)\n",
    "    null_basis = get_null_space_basis(A)\n",
    "\n",
    "    fig = plt.figure(figsize=(10, 5))\n",
    "    \n",
    "    if dim == 3:\n",
    "        ax = fig.add_subplot(121, projection='3d')\n",
    "    else:\n",
    "        ax = fig.add_subplot(121)\n",
    "    \n",
    "    ax.set_title(\"Column Space\")\n",
    "    colors = ['r', 'g', 'b']\n",
    "    \n",
    "    for i, vec in enumerate(col_basis):\n",
    "        if dim == 3:\n",
    "            ax.quiver(0, 0, 0, vec[0,0], vec[1,0], vec[2,0], color=colors[i % 3])\n",
    "        else:\n",
    "            ax.quiver(0, 0, vec[0,0], vec[1,0], angles='xy', scale_units='xy', scale=1, color=colors[i % 3])\n",
    "    \n",
    "    if dim == 3:\n",
    "        ax.set_xlim([-10, 10])\n",
    "        ax.set_ylim([-10, 10])\n",
    "        ax.set_zlim([-10, 10])\n",
    "    else:\n",
    "        ax.set_xlim([-10, 10])\n",
    "        ax.set_ylim([-10, 10])\n",
    "        ax.set_aspect('equal')\n",
    "\n",
    "    if dim == 3:\n",
    "        ax2 = fig.add_subplot(122, projection='3d')\n",
    "    else:\n",
    "        ax2 = fig.add_subplot(122)\n",
    "    \n",
    "    ax2.set_title(\"Null Space\")\n",
    "\n",
    "    for i, vec in enumerate(null_basis):\n",
    "        if dim == 3:\n",
    "            ax2.quiver(0, 0, 0, vec[0,0], vec[1,0], vec[2,0], color=colors[i % 3])\n",
    "        else:\n",
    "            ax2.quiver(0, 0, vec[0,0], vec[1,0], angles='xy', scale_units='xy', scale=1, color=colors[i % 3])\n",
    "\n",
    "    if dim == 3:\n",
    "        ax2.set_xlim([-10, 10])\n",
    "        ax2.set_ylim([-10, 10])\n",
    "        ax2.set_zlim([-10, 10])\n",
    "    else:\n",
    "        ax2.set_xlim([-10, 10])\n",
    "        ax2.set_ylim([-10, 10])\n",
    "        ax2.set_aspect('equal')\n",
    "\n",
    "    plt.tight_layout()\n",
    "    plt.show()"
   ]
  },
  {
   "cell_type": "code",
   "execution_count": null,
   "id": "40ba5881-0d3b-499b-987a-9f271c7c56b1",
   "metadata": {},
   "outputs": [],
   "source": []
  }
 ],
 "metadata": {
  "kernelspec": {
   "display_name": "Python 3 (ipykernel)",
   "language": "python",
   "name": "python3"
  },
  "language_info": {
   "codemirror_mode": {
    "name": "ipython",
    "version": 3
   },
   "file_extension": ".py",
   "mimetype": "text/x-python",
   "name": "python",
   "nbconvert_exporter": "python",
   "pygments_lexer": "ipython3",
   "version": "3.12.6"
  }
 },
 "nbformat": 4,
 "nbformat_minor": 5
}
